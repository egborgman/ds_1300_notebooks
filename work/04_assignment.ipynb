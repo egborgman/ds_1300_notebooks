{
 "cells": [
  {
   "cell_type": "markdown",
   "id": "9966cb79",
   "metadata": {},
   "source": [
    "# Data Visualization"
   ]
  },
  {
   "cell_type": "markdown",
   "id": "caad1347",
   "metadata": {},
   "source": [
    "Select a dataset we have used in class (or outside of class).\n",
    "\n",
    "Generate a plot that you feel visualizes the data is an interesting way. Your plot should have the following elements:\n",
    "\n",
    ">1) Title\n",
    ">2) Legend\n",
    ">3) Axes or other Labels\n",
    ">4) Color\n",
    ">5) 1 sentence description of what your plot shows\n",
    ">6) Brief description of why you chose to make the plot the way you did.\n",
    "\n",
    "You may use pandas, matplotlib, or seaborn.\n",
    "\n",
    "Upload a pdf of the plot to Canvas."
   ]
  },
  {
   "cell_type": "code",
   "execution_count": 10,
   "id": "744ebef7-e56a-491a-a7af-8fa5418e38ed",
   "metadata": {},
   "outputs": [],
   "source": [
    "import pandas as pd\n",
    "import matplotlib.pyplot as plt"
   ]
  },
  {
   "cell_type": "code",
   "execution_count": 11,
   "id": "43f637c2",
   "metadata": {},
   "outputs": [],
   "source": [
    "filename = 'oscars.csv'\n",
    "data = pd.read_csv(filename)"
   ]
  },
  {
   "cell_type": "code",
   "execution_count": 12,
   "id": "c605a447-1979-49d0-a3bd-78d06f9f3b53",
   "metadata": {},
   "outputs": [],
   "source": [
    "male_pronouns = [\"he\", \"him\", \"his\", \"himself\", \"man\", \"husband\", \"men\"]\n",
    "female_pronouns = [\"her\", \"hers\", \"she\", \"herself\", \"she's\", \"woman\", \"wife\", \"women\"]"
   ]
  },
  {
   "cell_type": "code",
   "execution_count": 13,
   "id": "a2b5950b-fd48-4b5f-9ab1-0f4f535f5f98",
   "metadata": {},
   "outputs": [],
   "source": [
    "def mtotal(speech):\n",
    "    i = 0\n",
    "    speech = speech.split()\n",
    "    for word in speech:\n",
    "        if word in male_pronouns:\n",
    "            i+=1\n",
    "    return i\n",
    "\n",
    "def ftotal(speech):\n",
    "    i = 0\n",
    "    speech = speech.split()\n",
    "    for word in speech:\n",
    "        if word in female_pronouns:\n",
    "            i+=1\n",
    "    return i"
   ]
  },
  {
   "cell_type": "code",
   "execution_count": 14,
   "id": "826ae3a0-6f74-46b7-be86-dece259fc3db",
   "metadata": {},
   "outputs": [],
   "source": [
    "data['Speech'] = data['Speech'].apply(lambda x: \" \".join(x.lower() for x in str(x).split()))\n",
    "data[\"He/Him Count\"] = data[\"Speech\"].apply(lambda x: mtotal(x))\n",
    "data[\"She/Her Count\"] = data[\"Speech\"].apply(lambda x: ftotal(x))"
   ]
  },
  {
   "cell_type": "code",
   "execution_count": 15,
   "id": "b7eac3f5-f14e-4462-babc-8a089cd83d70",
   "metadata": {},
   "outputs": [],
   "source": [
    "maledf = data[(data[\"Gender\"] == 0.0)]"
   ]
  },
  {
   "cell_type": "code",
   "execution_count": 16,
   "id": "aa6172cf-b7dd-42da-ad33-c8a4fbdbb2e0",
   "metadata": {},
   "outputs": [
    {
     "data": {
      "image/png": "[encoded data removed]",
      "text/plain": [
       "<Figure size 1440x504 with 1 Axes>"
      ]
     },
     "metadata": {
      "needs_background": "light"
     },
     "output_type": "display_data"
    }
   ],
   "source": [
    "p1 = maledf[['He/Him Count', 'She/Her Count']]\n",
    "p1.plot(kind='bar', figsize=(20,7), color=['darkseagreen', 'palevioletred'], title=\"Gender Mentions in Speeches - Male\")\n",
    "plt.savefig(\"m_gender_mentions.png\")"
   ]
  }
 ],
 "metadata": {
  "jupytext": {
   "formats": "ipynb"
  },
  "kernelspec": {
   "display_name": "Python 3 (ipykernel)",
   "language": "python",
   "name": "python3"
  },
  "language_info": {
   "codemirror_mode": {
    "name": "ipython",
    "version": 3
   },
   "file_extension": ".py",
   "mimetype": "text/x-python",
   "name": "python",
   "nbconvert_exporter": "python",
   "pygments_lexer": "ipython3",
   "version": "3.9.12"
  }
 },
 "nbformat": 4,
 "nbformat_minor": 5
}
