{
 "cells": [
  {
   "cell_type": "markdown",
<<<<<<< HEAD
<<<<<<< HEAD
<<<<<<< HEAD
   "id": "f1424edf",
=======
   "id": "cf700197",
>>>>>>> upstream/main
=======
   "id": "2692effc",
>>>>>>> upstream/main
=======
   "id": "bb14e0a3",
>>>>>>> upstream/main
   "metadata": {},
   "source": [
    "# Introduction to Python Programming\n"
   ]
  },
  {
   "cell_type": "markdown",
<<<<<<< HEAD
<<<<<<< HEAD
<<<<<<< HEAD
   "id": "0e7eef5a",
=======
   "id": "087c9ac6",
>>>>>>> upstream/main
=======
   "id": "784a06e5",
>>>>>>> upstream/main
=======
   "id": "df22f7c7",
>>>>>>> upstream/main
   "metadata": {},
   "source": [
    "By: Dr. Eric Godat and Dr. Rob Kalescky "
   ]
  },
  {
   "cell_type": "markdown",
<<<<<<< HEAD
<<<<<<< HEAD
<<<<<<< HEAD
   "id": "be4bb93d",
=======
   "id": "780fbc22",
>>>>>>> upstream/main
=======
   "id": "51b8b1b8",
>>>>>>> upstream/main
=======
   "id": "6ba1c573",
>>>>>>> upstream/main
   "metadata": {},
   "source": [
    "# Intro to Python Basics"
   ]
  },
  {
   "cell_type": "markdown",
<<<<<<< HEAD
<<<<<<< HEAD
<<<<<<< HEAD
   "id": "2c02cf4f",
=======
   "id": "8a478641",
>>>>>>> upstream/main
=======
   "id": "be9ce4fb",
>>>>>>> upstream/main
=======
   "id": "2617abdd",
>>>>>>> upstream/main
   "metadata": {},
   "source": [
    "*This section is designed to guide you from having never used Python before to feeling comfortable with basic operations.*\n",
    "\n",
    "Python is a programming language capable of just about anything you could want to do. It is designed to be human readable and robust. This particular document is called a Jupyter Notebook. Notebooks are tools for developing Python code and running that code in small steps and see the intermediate results in line."
   ]
  },
  {
   "cell_type": "markdown",
<<<<<<< HEAD
<<<<<<< HEAD
<<<<<<< HEAD
   "id": "1e835262",
=======
   "id": "3f6deccc",
>>>>>>> upstream/main
=======
   "id": "891f147d",
>>>>>>> upstream/main
=======
   "id": "ecb2c851",
>>>>>>> upstream/main
   "metadata": {},
   "source": [
    "## Operating this notebook"
   ]
  },
  {
   "cell_type": "markdown",
<<<<<<< HEAD
<<<<<<< HEAD
<<<<<<< HEAD
   "id": "c2705e85",
=======
   "id": "9a06cf0d",
>>>>>>> upstream/main
=======
   "id": "ac34b06f",
>>>>>>> upstream/main
=======
   "id": "3242cf72",
>>>>>>> upstream/main
   "metadata": {},
   "source": [
    "To operate this notebook, you will need to execute boxes of code, called cells. To do this you can either click the *Run* button on the toolbar or use [Shift]+[Enter].\n",
    "\n",
    "Throughout this notebook you will see cells that are not code (like this one). These cells contain text in a language called Markdown. You can execute these cells to render formatted text. A cheatsheet for Markdown can be found by clicking `Help -> Markdown Reference` or articles [like this](https://medium.com/analytics-vidhya/the-ultimate-markdown-guide-for-jupyter-notebook-d5e5abf728fd). There will also be comments with in the code itself that give additional information about the operation of the code, describe functions or show you places where you might want to make changes. These comments are always preceded by an octothorp (#) and in most cases be a different color from the surrounding text.\n",
    "\n",
    "Notebooks save automatically, however if you have made big changes your code, you can checkpoint it. This allows you to roll back changes to this point (or any previous checkpoints) should something break in the future.\n",
    "\n",
    "There are a few useful [keyboard shortcuts](https://gist.github.com/discdiver/9e00618756d120a8c9fa344ac1c375ac) for modifying the cells in a notebook. To use these, click on the far left side of the cell such that the outline changes color (to blue in most cases), press [Enter]] to return to editing the cell's contents.\n",
    "\n",
    "-Add a cell **a**bove the current cell   [A]\n",
    "\n",
    "-Add a cell **b**elow the current cell   [B]\n",
    "\n",
    "-**D**elete the current cell   [D,D]\n",
    "\n",
    "**Let's try it out!**"
   ]
  },
  {
   "cell_type": "markdown",
<<<<<<< HEAD
<<<<<<< HEAD
<<<<<<< HEAD
   "id": "7a72f36b",
=======
   "id": "35d1c87f",
>>>>>>> upstream/main
=======
   "id": "b003c35c",
>>>>>>> upstream/main
=======
   "id": "51e3369b",
>>>>>>> upstream/main
   "metadata": {},
   "source": [
    "### Basic Math"
   ]
  },
  {
   "cell_type": "markdown",
<<<<<<< HEAD
<<<<<<< HEAD
<<<<<<< HEAD
   "id": "9b257549",
=======
   "id": "3bce32cc",
>>>>>>> upstream/main
=======
   "id": "7b749ddb",
>>>>>>> upstream/main
=======
   "id": "6812a322",
>>>>>>> upstream/main
   "metadata": {},
   "source": [
    "Python can do simple mathematical operations just like a calculator. Try executing the following cells."
   ]
  },
  {
   "cell_type": "code",
   "execution_count": null,
<<<<<<< HEAD
<<<<<<< HEAD
<<<<<<< HEAD
   "id": "1e578de9",
=======
   "id": "6e018d5c",
>>>>>>> upstream/main
=======
   "id": "774d5243",
>>>>>>> upstream/main
=======
   "id": "e5c67365",
>>>>>>> upstream/main
   "metadata": {},
   "outputs": [],
   "source": [
    "1+1"
   ]
  },
  {
   "cell_type": "code",
   "execution_count": null,
<<<<<<< HEAD
<<<<<<< HEAD
<<<<<<< HEAD
   "id": "6f27cd23",
=======
   "id": "8f8b5287",
>>>>>>> upstream/main
=======
   "id": "9f9901b1",
>>>>>>> upstream/main
=======
   "id": "dcc838d7",
>>>>>>> upstream/main
   "metadata": {},
   "outputs": [],
   "source": [
    "2.5-2.0"
   ]
  },
  {
   "cell_type": "markdown",
<<<<<<< HEAD
<<<<<<< HEAD
<<<<<<< HEAD
   "id": "05f1ba25",
=======
   "id": "08419a41",
>>>>>>> upstream/main
=======
   "id": "0d68a649",
>>>>>>> upstream/main
=======
   "id": "e399007e",
>>>>>>> upstream/main
   "metadata": {},
   "source": [
    "## Variables and Objects"
   ]
  },
  {
   "cell_type": "markdown",
<<<<<<< HEAD
<<<<<<< HEAD
<<<<<<< HEAD
   "id": "a92fb398",
=======
   "id": "91555337",
>>>>>>> upstream/main
=======
   "id": "31ff970f",
>>>>>>> upstream/main
=======
   "id": "567c5148",
>>>>>>> upstream/main
   "metadata": {},
   "source": [
    "Calculations are nice but we really want to be able to store our calculations in memory so that we can access them later. We do that by assigning variables. "
   ]
  },
  {
   "cell_type": "code",
   "execution_count": null,
<<<<<<< HEAD
<<<<<<< HEAD
<<<<<<< HEAD
   "id": "fb8238df",
=======
   "id": "83389159",
>>>>>>> upstream/main
=======
   "id": "ae949fcd",
>>>>>>> upstream/main
=======
   "id": "be721043",
>>>>>>> upstream/main
   "metadata": {},
   "outputs": [],
   "source": [
    "a=2\n",
    "b=3"
   ]
  },
  {
   "cell_type": "code",
   "execution_count": null,
<<<<<<< HEAD
<<<<<<< HEAD
<<<<<<< HEAD
   "id": "fb1267fe",
=======
   "id": "dd782451",
>>>>>>> upstream/main
=======
   "id": "f46eaee5",
>>>>>>> upstream/main
=======
   "id": "e717397a",
>>>>>>> upstream/main
   "metadata": {},
   "outputs": [],
   "source": [
    "a+b"
   ]
  },
  {
   "cell_type": "markdown",
<<<<<<< HEAD
<<<<<<< HEAD
<<<<<<< HEAD
   "id": "07f5ecef",
=======
   "id": "c9fde953",
>>>>>>> upstream/main
=======
   "id": "314f1e8f",
>>>>>>> upstream/main
=======
   "id": "57ee7842",
>>>>>>> upstream/main
   "metadata": {},
   "source": [
    "Variables can be named just about anything"
   ]
  },
  {
   "cell_type": "code",
   "execution_count": null,
<<<<<<< HEAD
<<<<<<< HEAD
<<<<<<< HEAD
   "id": "055b1708",
=======
   "id": "caada1e8",
>>>>>>> upstream/main
=======
   "id": "ffa02b74",
>>>>>>> upstream/main
=======
   "id": "f3d2d9a8",
>>>>>>> upstream/main
   "metadata": {},
   "outputs": [],
   "source": [
    "Dallas=2\n",
    "SMU=7\n",
    "texas_TX=3"
   ]
  },
  {
   "cell_type": "code",
   "execution_count": null,
<<<<<<< HEAD
<<<<<<< HEAD
<<<<<<< HEAD
   "id": "5ccc669e",
=======
   "id": "1b5b186e",
>>>>>>> upstream/main
=======
   "id": "f81b89a9",
>>>>>>> upstream/main
=======
   "id": "056baef3",
>>>>>>> upstream/main
   "metadata": {},
   "outputs": [],
   "source": [
    "#Notice that if we assign a value to a variable, our notebook won't return that value to our screen.\n",
    "#If we want it to show us the value, we can call that variable after it is assigned.\n",
    "ouranswer = SMU*Dallas*texas_TX\n",
    "ouranswer"
   ]
  },
  {
   "cell_type": "markdown",
<<<<<<< HEAD
<<<<<<< HEAD
<<<<<<< HEAD
   "id": "d29cce96",
=======
   "id": "82d9a493",
>>>>>>> upstream/main
=======
   "id": "e23444c9",
>>>>>>> upstream/main
=======
   "id": "5cfe00ad",
>>>>>>> upstream/main
   "metadata": {},
   "source": [
    "So far we have been doing all of our operations on numbers, integers and floats (decimals), but there are other useful objects we can use in Python.\n",
    "\n",
    "Strings allow us to store and operate on text data. Strings in Python are surrounded by either single quotes '' or double quotes \"\"."
   ]
  },
  {
   "cell_type": "code",
   "execution_count": null,
<<<<<<< HEAD
<<<<<<< HEAD
<<<<<<< HEAD
   "id": "f3461ae0",
=======
   "id": "3d8bf514",
>>>>>>> upstream/main
=======
   "id": "567b9ca3",
>>>>>>> upstream/main
=======
   "id": "1ba615aa",
>>>>>>> upstream/main
   "metadata": {},
   "outputs": [],
   "source": [
    "ourstring = \"Here is a string in Python!\"\n",
    "ourstring"
   ]
  },
  {
   "cell_type": "markdown",
<<<<<<< HEAD
<<<<<<< HEAD
<<<<<<< HEAD
   "id": "0f051a84",
=======
   "id": "e61c97f2",
>>>>>>> upstream/main
=======
   "id": "3b3dd7cb",
>>>>>>> upstream/main
=======
   "id": "4d4c64a1",
>>>>>>> upstream/main
   "metadata": {},
   "source": [
    "If we later want to see the value stored in a variable we can always use the built in **print** function. **Print** is recognized as a keyword by our notebook and so the color changes to make our lives as programmers easier."
   ]
  },
  {
   "cell_type": "code",
   "execution_count": null,
<<<<<<< HEAD
<<<<<<< HEAD
<<<<<<< HEAD
   "id": "fa7dbeb1",
=======
   "id": "853276a7",
>>>>>>> upstream/main
=======
   "id": "dabc76b0",
>>>>>>> upstream/main
=======
   "id": "d294482f",
>>>>>>> upstream/main
   "metadata": {},
   "outputs": [],
   "source": [
    "print(ourstring)"
   ]
  },
  {
   "cell_type": "markdown",
<<<<<<< HEAD
<<<<<<< HEAD
<<<<<<< HEAD
   "id": "4dad4355",
=======
   "id": "4392bd10",
>>>>>>> upstream/main
=======
   "id": "7f3565cb",
>>>>>>> upstream/main
=======
   "id": "38213321",
>>>>>>> upstream/main
   "metadata": {},
   "source": [
    "What if we want to have multiple strings stored at once but we don't want to assign a bunch of variables? Then we can use a list.\n",
    "\n",
    "Lists are enclosed by brackets [] and separated by commas."
   ]
  },
  {
   "cell_type": "code",
   "execution_count": null,
<<<<<<< HEAD
<<<<<<< HEAD
<<<<<<< HEAD
   "id": "558d4c30",
=======
   "id": "93f4f721",
>>>>>>> upstream/main
=======
   "id": "69e2ebc1",
>>>>>>> upstream/main
=======
   "id": "fb42615e",
>>>>>>> upstream/main
   "metadata": {},
   "outputs": [],
   "source": [
    "ourlist = ['This', 'is', \"a\", \"list\", 'of', \"strings\"]"
   ]
  },
  {
   "cell_type": "code",
   "execution_count": null,
<<<<<<< HEAD
<<<<<<< HEAD
<<<<<<< HEAD
   "id": "fb245ad3",
=======
   "id": "a8c2dc14",
>>>>>>> upstream/main
=======
   "id": "ac2921b3",
>>>>>>> upstream/main
=======
   "id": "4d2f4c09",
>>>>>>> upstream/main
   "metadata": {},
   "outputs": [],
   "source": [
    "print(ourlist)"
   ]
  },
  {
   "cell_type": "markdown",
<<<<<<< HEAD
<<<<<<< HEAD
<<<<<<< HEAD
   "id": "1129bc74",
=======
   "id": "908399ad",
>>>>>>> upstream/main
=======
   "id": "f49fcb69",
>>>>>>> upstream/main
=======
   "id": "2f4a8b24",
>>>>>>> upstream/main
   "metadata": {},
   "source": [
    "To access individual elements in a list you call it by its reference number.\n",
    "\n",
    "*__Note:__ In Python, counting starts with 0. Thus in the list [a,b,c], a is the 0th element and c is the 2nd*"
   ]
  },
  {
   "cell_type": "code",
   "execution_count": null,
<<<<<<< HEAD
<<<<<<< HEAD
<<<<<<< HEAD
   "id": "8e7964f0",
=======
   "id": "a326975e",
>>>>>>> upstream/main
=======
   "id": "700c41c7",
>>>>>>> upstream/main
=======
   "id": "c3604eb4",
>>>>>>> upstream/main
   "metadata": {},
   "outputs": [],
   "source": [
    "first = ourlist[0]"
   ]
  },
  {
   "cell_type": "code",
   "execution_count": null,
<<<<<<< HEAD
<<<<<<< HEAD
<<<<<<< HEAD
   "id": "1286e9bf",
=======
   "id": "96f2fe2d",
>>>>>>> upstream/main
=======
   "id": "8a8eb6d7",
>>>>>>> upstream/main
=======
   "id": "5fe2c79d",
>>>>>>> upstream/main
   "metadata": {},
   "outputs": [],
   "source": [
    "# Notice we can call the last element by using a negative reference number. This lets us see the end without knowing how long the list is.\n",
    "last = ourlist[-1]"
   ]
  },
  {
   "cell_type": "code",
   "execution_count": null,
<<<<<<< HEAD
<<<<<<< HEAD
<<<<<<< HEAD
   "id": "6abd79db",
=======
   "id": "4176a6e1",
>>>>>>> upstream/main
=======
   "id": "8975de83",
>>>>>>> upstream/main
=======
   "id": "72275d50",
>>>>>>> upstream/main
   "metadata": {},
   "outputs": [],
   "source": [
    "print(first,last)"
   ]
  },
  {
   "cell_type": "code",
   "execution_count": null,
<<<<<<< HEAD
<<<<<<< HEAD
<<<<<<< HEAD
   "id": "0fc57329",
=======
   "id": "b3e3aa5a",
>>>>>>> upstream/main
=======
   "id": "a721848b",
>>>>>>> upstream/main
=======
   "id": "296d7800",
>>>>>>> upstream/main
   "metadata": {},
   "outputs": [],
   "source": [
    "# If we did want to know the length of our list we can use the len() function\n",
    "len(ourlist)"
   ]
  },
  {
   "cell_type": "markdown",
<<<<<<< HEAD
<<<<<<< HEAD
<<<<<<< HEAD
   "id": "67e4d89a",
=======
   "id": "11bc8f74",
>>>>>>> upstream/main
=======
   "id": "0b03aaac",
>>>>>>> upstream/main
=======
   "id": "7dea4fc4",
>>>>>>> upstream/main
   "metadata": {},
   "source": [
    "### Dictionaries"
   ]
  },
  {
   "cell_type": "markdown",
<<<<<<< HEAD
<<<<<<< HEAD
<<<<<<< HEAD
   "id": "8b25b1c4",
=======
   "id": "12aee1fc",
>>>>>>> upstream/main
=======
   "id": "5b7d714b",
>>>>>>> upstream/main
=======
   "id": "7f00c1c6",
>>>>>>> upstream/main
   "metadata": {},
   "source": [
    "Dictionaries are a different way of storing data than lists. They rely on a key and value system as opposed to the order of the entries.\n",
    "\n",
    "Dictionaries are enclosed in curly braces {}, the key and value are separated by a colon : and entries are separated by commas ,\n",
    "\n",
    "Values can then be accessed by referencing the key.\n",
    "\n",
    "*__Note:__ Finding dictionary values does not go both ways, so using the value to find the key will cause an error.*"
   ]
  },
  {
   "cell_type": "code",
   "execution_count": null,
<<<<<<< HEAD
<<<<<<< HEAD
<<<<<<< HEAD
   "id": "0560ac7c",
=======
   "id": "329b2837",
>>>>>>> upstream/main
=======
   "id": "76ab613e",
>>>>>>> upstream/main
=======
   "id": "0e3a13af",
>>>>>>> upstream/main
   "metadata": {},
   "outputs": [],
   "source": [
    "ourdictionary = {\"Dallas\":1345000,\"Taos\":5668,'Houston':2326000}\n",
    "ourdictionary"
   ]
  },
  {
   "cell_type": "code",
   "execution_count": null,
<<<<<<< HEAD
<<<<<<< HEAD
<<<<<<< HEAD
   "id": "24a67470",
=======
   "id": "275d2bb9",
>>>>>>> upstream/main
=======
   "id": "b546b36c",
>>>>>>> upstream/main
=======
   "id": "22f7ac0f",
>>>>>>> upstream/main
   "metadata": {},
   "outputs": [],
   "source": [
    "ourdictionary[\"Taos\"] \n",
    "#NOTE: ourdictionary[5668] will NOT give you \"Taos\", but an error."
   ]
  },
  {
   "cell_type": "markdown",
<<<<<<< HEAD
<<<<<<< HEAD
<<<<<<< HEAD
   "id": "7bd4c795",
=======
   "id": "126d1943",
>>>>>>> upstream/main
=======
   "id": "2c9e829e",
>>>>>>> upstream/main
=======
   "id": "7c44139d",
>>>>>>> upstream/main
   "metadata": {},
   "source": [
    "## Loops and Functions"
   ]
  },
  {
   "cell_type": "markdown",
<<<<<<< HEAD
<<<<<<< HEAD
<<<<<<< HEAD
   "id": "68adcbec",
=======
   "id": "11e3d33a",
>>>>>>> upstream/main
=======
   "id": "6d352087",
>>>>>>> upstream/main
=======
   "id": "81482e79",
>>>>>>> upstream/main
   "metadata": {},
   "source": [
    "Computers are much better at doing simple repeatable tasks than humans are so to leverage this advantage, we will cover two different ways of writing these kind of repeatable instructions."
   ]
  },
  {
   "cell_type": "markdown",
<<<<<<< HEAD
<<<<<<< HEAD
<<<<<<< HEAD
   "id": "d75a3b5c",
=======
   "id": "4c0aba60",
>>>>>>> upstream/main
=======
   "id": "b3f3475a",
>>>>>>> upstream/main
=======
   "id": "1ad3e656",
>>>>>>> upstream/main
   "metadata": {},
   "source": [
    "### Loops"
   ]
  },
  {
   "cell_type": "markdown",
<<<<<<< HEAD
<<<<<<< HEAD
<<<<<<< HEAD
   "id": "5e287e6a",
=======
   "id": "35bcd33e",
>>>>>>> upstream/main
=======
   "id": "c45833e2",
>>>>>>> upstream/main
=======
   "id": "b8524b6a",
>>>>>>> upstream/main
   "metadata": {},
   "source": [
    "Loops are a way of having Python complete a task over and over.\n",
    "\n",
    "The most common form if a **for** loop. A **for** loop completes a task a fixed number of times by iterating a variable over the members of a sequence in order."
   ]
  },
  {
   "cell_type": "code",
   "execution_count": null,
<<<<<<< HEAD
<<<<<<< HEAD
<<<<<<< HEAD
   "id": "15fb9d0e",
=======
   "id": "3e8a7bf4",
>>>>>>> upstream/main
=======
   "id": "fd990f8c",
>>>>>>> upstream/main
=======
   "id": "102f93d0",
>>>>>>> upstream/main
   "metadata": {},
   "outputs": [],
   "source": [
    "#Example for loop\n",
    "for i in [0,1,2]:\n",
    "    print(i)"
   ]
  },
  {
   "cell_type": "markdown",
<<<<<<< HEAD
<<<<<<< HEAD
<<<<<<< HEAD
   "id": "34499c91",
=======
   "id": "6070e3d9",
>>>>>>> upstream/main
=======
   "id": "cc1d46fd",
>>>>>>> upstream/main
=======
   "id": "f9db9a58",
>>>>>>> upstream/main
   "metadata": {},
   "source": [
    "*__Note__: The indention is important, it tells Python that the line *print(i)* belongs inside the loop.*"
   ]
  },
  {
   "cell_type": "markdown",
<<<<<<< HEAD
<<<<<<< HEAD
<<<<<<< HEAD
   "id": "5828cfc8",
=======
   "id": "9da452d0",
>>>>>>> upstream/main
=======
   "id": "a3a9c6ac",
>>>>>>> upstream/main
=======
   "id": "661f2763",
>>>>>>> upstream/main
   "metadata": {},
   "source": [
    "### Functions"
   ]
  },
  {
   "cell_type": "markdown",
<<<<<<< HEAD
<<<<<<< HEAD
<<<<<<< HEAD
   "id": "9e2c9a83",
=======
   "id": "8b9327bf",
>>>>>>> upstream/main
=======
   "id": "ffbf2dc6",
>>>>>>> upstream/main
=======
   "id": "83de083b",
>>>>>>> upstream/main
   "metadata": {},
   "source": [
    "Sometimes it would be nice to be able to save a group of instructions in a single block, that way we won't need to rewrite several lines of code each time we want to do that set of operations.\n",
    "\n",
    "To do this we define a **function**.\n",
    "\n",
    "Functions allow us to define a more complicated set of instructions as a single entity and call that entire block of code directly.\n",
    "\n",
    "Functions are defined (*def*), named (lowercase is a standard practice) and accept arguments (). They then can return a value if needed (*return*).\n",
    "\n",
    "Python has several built in functions (*print()* is a good example) and when you combine external packages and libraries, there are functions for just about everything you could think of."
   ]
  },
  {
   "cell_type": "code",
   "execution_count": null,
<<<<<<< HEAD
<<<<<<< HEAD
<<<<<<< HEAD
   "id": "2464ccd6",
=======
   "id": "c2b3e653",
>>>>>>> upstream/main
=======
   "id": "20a5937b",
>>>>>>> upstream/main
=======
   "id": "3b171e37",
>>>>>>> upstream/main
   "metadata": {},
   "outputs": [],
   "source": [
    "# Example function\n",
    "def square_me(n):\n",
    "    return n*n"
   ]
  },
  {
   "cell_type": "code",
   "execution_count": null,
<<<<<<< HEAD
<<<<<<< HEAD
<<<<<<< HEAD
   "id": "46b3a4aa",
=======
   "id": "a9acc146",
>>>>>>> upstream/main
=======
   "id": "c22ac90d",
>>>>>>> upstream/main
=======
   "id": "9c0f6002",
>>>>>>> upstream/main
   "metadata": {},
   "outputs": [],
   "source": [
    "square_me(4)"
   ]
  },
  {
   "cell_type": "markdown",
<<<<<<< HEAD
<<<<<<< HEAD
<<<<<<< HEAD
   "id": "46ded4fb",
=======
   "id": "dba5ae68",
>>>>>>> upstream/main
=======
   "id": "cc0ac787",
>>>>>>> upstream/main
=======
   "id": "629497ea",
>>>>>>> upstream/main
   "metadata": {},
   "source": [
    ">**Discussion**: What is something that you do over and over again?\n",
    ">Is that task something you could use a *loop* for or a *function* for?"
   ]
  },
  {
   "cell_type": "markdown",
<<<<<<< HEAD
<<<<<<< HEAD
<<<<<<< HEAD
   "id": "11cc8e62",
=======
   "id": "9851fc57",
>>>>>>> upstream/main
=======
   "id": "86515240",
>>>>>>> upstream/main
=======
   "id": "6addbfeb",
>>>>>>> upstream/main
   "metadata": {},
   "source": [
    "Putting loops and functions together is where python can become very powerful."
   ]
  },
  {
   "cell_type": "code",
   "execution_count": null,
<<<<<<< HEAD
<<<<<<< HEAD
<<<<<<< HEAD
   "id": "4e6c9a54",
=======
   "id": "9b9c7770",
>>>>>>> upstream/main
=======
   "id": "29669117",
>>>>>>> upstream/main
=======
   "id": "e919c19f",
>>>>>>> upstream/main
   "metadata": {},
   "outputs": [],
   "source": [
    "# Looping over a function\n",
    "for i in [0,1,2,3]:\n",
    "    print(square_me(i)) # note that this is still tabbed in within the for loop"
   ]
  },
  {
   "cell_type": "code",
   "execution_count": null,
<<<<<<< HEAD
<<<<<<< HEAD
<<<<<<< HEAD
   "id": "79c89f9b",
=======
   "id": "ab2fd8a6",
>>>>>>> upstream/main
=======
   "id": "10b6cf60",
>>>>>>> upstream/main
=======
   "id": "de9ff3d7",
>>>>>>> upstream/main
   "metadata": {},
   "outputs": [],
   "source": [
    "# A function with a loop\n",
    "def print_numbers(start,stop):\n",
    "    for i in range(start,stop): #Here the range() function gives us all the values from start up to but excluding the stop value\n",
    "        print(i) # this is indented twice, so Python knows it is within the loop within the function"
   ]
  },
  {
   "cell_type": "code",
   "execution_count": null,
<<<<<<< HEAD
<<<<<<< HEAD
<<<<<<< HEAD
   "id": "b8353ff7",
=======
   "id": "c172771e",
>>>>>>> upstream/main
=======
   "id": "77cb79aa",
>>>>>>> upstream/main
=======
   "id": "04f9eb14",
>>>>>>> upstream/main
   "metadata": {},
   "outputs": [],
   "source": [
    "print_numbers(0,4)"
   ]
  },
  {
   "cell_type": "markdown",
<<<<<<< HEAD
<<<<<<< HEAD
<<<<<<< HEAD
   "id": "c80f4130",
=======
   "id": "2127b7b2",
>>>>>>> upstream/main
=======
   "id": "69aa0564",
>>>>>>> upstream/main
=======
   "id": "34d295bb",
>>>>>>> upstream/main
   "metadata": {},
   "source": [
    "# Libraries"
   ]
  },
  {
   "cell_type": "markdown",
<<<<<<< HEAD
<<<<<<< HEAD
<<<<<<< HEAD
   "id": "0f4a070a",
=======
   "id": "bf230d2c",
>>>>>>> upstream/main
=======
   "id": "eaf781bf",
>>>>>>> upstream/main
=======
   "id": "dcf4a709",
>>>>>>> upstream/main
   "metadata": {},
   "source": [
    "Libraries are pre-written chunks of code designed to be integrated into projects for a specific purpose.  The idea is to keep people from having to reinvent the wheel every time they want to write a program.  When we encounter situations where a libary might be useful, we use the keyword *import* to tell the program that we want to use this pre-existing code.  As an example, in the next section you will use a library called Pandas which helps visualize data and make it easier to digest, which is very useful for us.  Because of this, we will import that code into this program simply by running the cell with the import that goes with that code.  Here is what you will see, only in commented code."
   ]
  },
  {
   "cell_type": "code",
   "execution_count": null,
<<<<<<< HEAD
<<<<<<< HEAD
<<<<<<< HEAD
   "id": "762449f3",
=======
   "id": "e247edaf",
>>>>>>> upstream/main
=======
   "id": "8eaf3e22",
>>>>>>> upstream/main
=======
   "id": "edf67e11",
>>>>>>> upstream/main
   "metadata": {},
   "outputs": [],
   "source": [
    "#import pandas as pd\n",
    "\n",
    "#by using the keyword *as* and giving pandas an alternative name (pd) in this program, it allows us to use the\n",
    "#functions within pandas while only having to type our pd instead of pandas every time."
   ]
  },
  {
   "cell_type": "markdown",
<<<<<<< HEAD
<<<<<<< HEAD
<<<<<<< HEAD
   "id": "f776d1e5",
=======
   "id": "e231f0fd",
>>>>>>> upstream/main
=======
   "id": "a6ac77e4",
>>>>>>> upstream/main
=======
   "id": "2891347b",
>>>>>>> upstream/main
   "metadata": {},
   "source": [
    "Most programming languages have libraries that allow you to import code this way, and it will save you a lot of time and allow you to quickly use many new functions that are highly polished."
   ]
  },
  {
   "cell_type": "markdown",
<<<<<<< HEAD
<<<<<<< HEAD
<<<<<<< HEAD
   "id": "17105d1e",
=======
   "id": "5a3dbd3a",
>>>>>>> upstream/main
=======
   "id": "3c779f3c",
>>>>>>> upstream/main
=======
   "id": "fd571081",
>>>>>>> upstream/main
   "metadata": {},
   "source": [
    "# DataFrames and Pandas"
   ]
  },
  {
   "cell_type": "markdown",
<<<<<<< HEAD
<<<<<<< HEAD
<<<<<<< HEAD
   "id": "1739f7e8",
=======
   "id": "c91c3433",
>>>>>>> upstream/main
=======
   "id": "5f7fbe9b",
>>>>>>> upstream/main
=======
   "id": "80c949f7",
>>>>>>> upstream/main
   "metadata": {},
   "source": [
    "Now it is time to use what we have learned to start doing some data science.\n",
    "\n",
    "Pandas is the name of a library in which there are functions and tools for doing operations common in data analysis and data science. One particularly great feature is the DataFrame structure which allows us to work with an object similar to an Excel spreadsheet but with the flexibility and power of Python behind it.\n",
    "\n",
    "First we will need to import the Pandas library and create a DataFrame. DataFrames are can also be created when you import files (like CSV's) or tables from a database (like SQL)."
   ]
  },
  {
   "cell_type": "code",
   "execution_count": null,
<<<<<<< HEAD
<<<<<<< HEAD
<<<<<<< HEAD
   "id": "77f3b81b",
=======
   "id": "5b426dbf",
>>>>>>> upstream/main
=======
   "id": "c80bcebc",
>>>>>>> upstream/main
=======
   "id": "f6220e8a",
>>>>>>> upstream/main
   "metadata": {},
   "outputs": [],
   "source": [
    "import pandas as pd"
   ]
  },
  {
   "cell_type": "code",
   "execution_count": null,
<<<<<<< HEAD
<<<<<<< HEAD
<<<<<<< HEAD
   "id": "83d201bf",
=======
   "id": "218c1790",
>>>>>>> upstream/main
=======
   "id": "82acc77c",
>>>>>>> upstream/main
=======
   "id": "850e8dd9",
>>>>>>> upstream/main
   "metadata": {},
   "outputs": [],
   "source": [
    "d = {\"Books\":[\"The Silmarillion\",\"The Hobbit\",\"The Fellowship of the Ring\",\"The Two Towers\",\"The Return of the King\"],\n",
    "     \"Words\":[130115,95506,187726,156147,137037]\n",
    "    }\n",
    "df = pd.DataFrame(d)\n",
    "df"
   ]
  },
  {
   "cell_type": "markdown",
<<<<<<< HEAD
<<<<<<< HEAD
<<<<<<< HEAD
   "id": "76388b84",
=======
   "id": "7228626b",
>>>>>>> upstream/main
=======
   "id": "52fb97ee",
>>>>>>> upstream/main
=======
   "id": "8b939328",
>>>>>>> upstream/main
   "metadata": {},
   "source": [
    "Now we can operate on entire rows or columns in our DataFrame."
   ]
  },
  {
   "cell_type": "code",
   "execution_count": null,
<<<<<<< HEAD
<<<<<<< HEAD
<<<<<<< HEAD
   "id": "987703f0",
=======
   "id": "316f2be8",
>>>>>>> upstream/main
=======
   "id": "04df5d98",
>>>>>>> upstream/main
=======
   "id": "f7ef1aa6",
>>>>>>> upstream/main
   "metadata": {},
   "outputs": [],
   "source": [
    "df[\"Books\"] #Selecting the column \"Books\""
   ]
  },
  {
   "cell_type": "code",
   "execution_count": null,
<<<<<<< HEAD
<<<<<<< HEAD
<<<<<<< HEAD
   "id": "4f301fc1",
=======
   "id": "b915486f",
>>>>>>> upstream/main
=======
   "id": "0c3d1c1b",
>>>>>>> upstream/main
=======
   "id": "96026d91",
>>>>>>> upstream/main
   "metadata": {},
   "outputs": [],
   "source": [
    "df[:2] #Selecting the first 2 rows"
   ]
  },
  {
   "cell_type": "code",
   "execution_count": null,
<<<<<<< HEAD
<<<<<<< HEAD
<<<<<<< HEAD
   "id": "ee4e5351",
=======
   "id": "072d8b10",
>>>>>>> upstream/main
=======
   "id": "e2594ed0",
>>>>>>> upstream/main
=======
   "id": "80c3c576",
>>>>>>> upstream/main
   "metadata": {},
   "outputs": [],
   "source": [
    "df[2:4] #Selecting rows 2 up to 4"
   ]
  },
  {
   "cell_type": "code",
   "execution_count": null,
<<<<<<< HEAD
<<<<<<< HEAD
<<<<<<< HEAD
   "id": "dd9d2737",
=======
   "id": "94daee38",
>>>>>>> upstream/main
=======
   "id": "f193c7a0",
>>>>>>> upstream/main
=======
   "id": "a389784d",
>>>>>>> upstream/main
   "metadata": {},
   "outputs": [],
   "source": [
    "df[\"Words\"][2:4] #Selecting the second and third row from the \"Words\" column."
   ]
  },
  {
   "cell_type": "code",
   "execution_count": null,
<<<<<<< HEAD
<<<<<<< HEAD
<<<<<<< HEAD
   "id": "a93078fa",
=======
   "id": "96de781d",
>>>>>>> upstream/main
=======
   "id": "d9ae5c37",
>>>>>>> upstream/main
=======
   "id": "3cb9610a",
>>>>>>> upstream/main
   "metadata": {},
   "outputs": [],
   "source": [
    "df[2:4][\"Words\"] #Same result but from the opposite order"
   ]
  },
  {
   "cell_type": "markdown",
<<<<<<< HEAD
<<<<<<< HEAD
<<<<<<< HEAD
   "id": "dee01320",
=======
   "id": "3e0e34fd",
>>>>>>> upstream/main
=======
   "id": "a04d9599",
>>>>>>> upstream/main
=======
   "id": "b0c60b2f",
>>>>>>> upstream/main
   "metadata": {},
   "source": [
    "You can also operate on entire columns in your DataFrame. Just be careful because this can give you unexpected results. Rows are generally more consistent for elements within a DataFrame."
   ]
  },
  {
   "cell_type": "code",
   "execution_count": null,
<<<<<<< HEAD
<<<<<<< HEAD
<<<<<<< HEAD
   "id": "f04ef1ce",
=======
   "id": "15463fd9",
>>>>>>> upstream/main
=======
   "id": "d74c663a",
>>>>>>> upstream/main
=======
   "id": "9c980417",
>>>>>>> upstream/main
   "metadata": {},
   "outputs": [],
   "source": [
    "total = sum(df[\"Words\"])\n",
    "total"
   ]
  },
  {
   "cell_type": "markdown",
<<<<<<< HEAD
<<<<<<< HEAD
<<<<<<< HEAD
   "id": "269ce528",
=======
   "id": "3784d801",
>>>>>>> upstream/main
=======
   "id": "f03fb804",
>>>>>>> upstream/main
=======
   "id": "62192744",
>>>>>>> upstream/main
   "metadata": {},
   "source": [
    "## More Complex Data"
   ]
  },
  {
   "cell_type": "markdown",
<<<<<<< HEAD
<<<<<<< HEAD
<<<<<<< HEAD
   "id": "701fcabc",
=======
   "id": "008b1d75",
>>>>>>> upstream/main
=======
   "id": "c31d5e16",
>>>>>>> upstream/main
=======
   "id": "d25b38b5",
>>>>>>> upstream/main
   "metadata": {},
   "source": [
    "To look at slightly more complex data operations, we need more complex data.\n",
    "\n",
    "Below we have all the chapters from the Hobbit and Lord of the Rings books along with their word counts. Notice that each chapter is a list of information and then each of those list is an element in a larger list."
   ]
  },
  {
   "cell_type": "code",
   "execution_count": null,
<<<<<<< HEAD
<<<<<<< HEAD
<<<<<<< HEAD
   "id": "17d1b494",
=======
   "id": "90a0b01d",
>>>>>>> upstream/main
=======
   "id": "8aa4e9fe",
>>>>>>> upstream/main
=======
   "id": "86dec668",
>>>>>>> upstream/main
   "metadata": {},
   "outputs": [],
   "source": [
    "chapters = [[0,1,'An Unexpected Party',8638,0],\n",
    "            [0,2,'Roast Mutton',5257,0],\n",
    "            [0,3,'A Short Rest',2876,0],\n",
    "            [0,4,'Over Hill and Under Hill',4034,0],\n",
    "            [0,5,'Riddles in the Dark',6967,0],\n",
    "            [0,6,'Out of the Frying Pan into the Fire',6703,0],\n",
    "            [0,7,'Queer Lodgings',9027,0],\n",
    "            [0,8,'Flies and Spiders',10223,0],\n",
    "            [0,9,'Barrels Out of Bond',5833,0],\n",
    "            [0,10,'A Warm Welcome',3930,0],\n",
    "            [0,11,'On the Doorstep',3001,0],\n",
    "            [0,12,'Inside Information',7132,0],\n",
    "            [0,13,'Not At Home',3909,0],\n",
    "            [0,14,'Fire and Water',3236,0],\n",
    "            [0,15,'The Gathering of the Clouds',3362,0],\n",
    "            [0,16,'A Thief in the Night',2153,0],\n",
    "            [0,17,'The Clouds Burst',3949,0],\n",
    "            [0,18,'The Return Journey',2815,0],\n",
    "            [0,19,'The Last Stage',2461,0],\n",
    "            [1,-4,'Concerning Hobbits',3406,1],\n",
    "            [1,-3,'Concerning Pipeweed',600,1],\n",
    "            [1,-2,'Of the Ordering of the Shire',2431,1],\n",
    "            [1,-1,'Note on the Shire Records',914,1],\n",
    "            [1,1,'A Long-expected Party',10012,1],\n",
    "            [1,2,'The Shadow of the Past',11311,1],\n",
    "            [1,3,'Three is Company',9763,1],\n",
    "            [1,4,'A Short Cut to Mushrooms',5957,1],\n",
    "            [1,5,'A Conspiracy Unmasked',5196,1],\n",
    "            [1,6,'The Old Forest',6502,1],\n",
    "            [1,7,'In the House of Tom Bombadil',5501,1],\n",
    "            [1,8,'Fog on the Barrow-downs',6694,1],\n",
    "            [1,9,'At the Sign of the Prancing Pony',6251,1],\n",
    "            [1,10,'Strider',5905,1],\n",
    "            [1,11,'A Knife in the Dark',9468,1],\n",
    "            [1,12,'Flight to the Ford',8805,1],\n",
    "            [1,1,'Many Meetings',9085,2],\n",
    "            [1,2,'The Council of Elrond',16360,2],\n",
    "            [1,3,'The Ring goes South',10656,2],\n",
    "            [1,4,'A Journey in the Dark',11501,2],\n",
    "            [1,5,'The Bridge of Khazad-dum',5428,2],\n",
    "            [1,6,'Lothlorien',9387,2],\n",
    "            [1,7,'The Mirror of Gladriel',6896,2],\n",
    "            [1,8,'Farewell to Lorien',6174,2],\n",
    "            [1,9,'The Great River',7218,2],\n",
    "            [1,10,'The Breaking of the Fellowship',6305,2],\n",
    "            [2,1,'The Departure of Boromir',3397,3],\n",
    "            [2,2,'The Riders of Rohan',11133,3],\n",
    "            [2,3,'The Uruk-hai',7854,3],\n",
    "            [2,4,'Treebeard',12876,3],\n",
    "            [2,5,'The White Rider',8856,3],\n",
    "            [2,6,'The King of the Golden Hall',9303,3],\n",
    "            [2,7,\"Helm's Deep\",7575,3],\n",
    "            [2,8,'The Road to Isengard',7899,3],\n",
    "            [2,9,'Flotsam and Jetsam',7789,3],\n",
    "            [2,10,'The Voice of Saruman',5663,3],\n",
    "            [2,11,'The Palantir',6325,3],\n",
    "            [2,1,'The Taming of Smeagol',8375,4],\n",
    "            [2,2,'The Passage of the Marshes',7357,4],\n",
    "            [2,3,'The Black Gate is Closed',5881,4],\n",
    "            [2,4,'Of Herbs and Stewed Rabbit',6975,4],\n",
    "            [2,5,'The Window on the West',10120,4],\n",
    "            [2,6,'The Forbidden Pool',5179,4],\n",
    "            [2,7,'Journey to the Crossroads',4266,4],\n",
    "            [2,8,'The Stairs of Cirith Ungol',6793,4],\n",
    "            [2,9,\"Shelob's Lair\",5209,4],\n",
    "            [2,10,'The Choices of Master Samwise',7322,4],\n",
    "            [3,1,'Minas Tirith',13100,5],\n",
    "            [3,2,'The Passing of the Grey Company',8586,5],\n",
    "            [3,3,'The Muster of Rohan',6951,5],\n",
    "            [3,4,'The Siege of Gondor',11793,5],\n",
    "            [3,5,'The Ride of the Rohirrim',4358,5],\n",
    "            [3,6,'The Battle of the Pelennor Fields',5225,5],\n",
    "            [3,7,'The Pyre of Denethor',3736,5],\n",
    "            [3,8,'The Houses of Healing',6731,5],\n",
    "            [3,9,'The Last Debate',5416,5],\n",
    "            [3,10,'The Black Gate Opens',5204,5],\n",
    "            [3,1,'The Tower of Cirith Ungol',9721,6],\n",
    "            [3,2,'The Land of Shadow',8446,6],\n",
    "            [3,3,'Mount Doom',7777,6],\n",
    "            [3,4,'The Field of Cormallen',4721,6],\n",
    "            [3,5,'The Steward and the King',7639,6],\n",
    "            [3,6,'Many Partings',7440,6],\n",
    "            [3,7,'Homeward Bound',4106,6],\n",
    "            [3,8,'The Scouring of the Shire',11296,6],\n",
    "            [3,9,'The Grey Havens',4791,6]\n",
    "           ]"
   ]
  },
  {
   "cell_type": "markdown",
<<<<<<< HEAD
<<<<<<< HEAD
<<<<<<< HEAD
   "id": "36285cca",
=======
   "id": "41751e1d",
>>>>>>> upstream/main
=======
   "id": "347062cb",
>>>>>>> upstream/main
=======
   "id": "c66c4908",
>>>>>>> upstream/main
   "metadata": {},
   "source": [
    "Now we can turn the list of the lists into a dataframe. We have also named our columns. This isn't necessary but it does make things clearer to work with."
   ]
  },
  {
   "cell_type": "code",
   "execution_count": null,
<<<<<<< HEAD
<<<<<<< HEAD
<<<<<<< HEAD
   "id": "4d740de9",
=======
   "id": "68d2fff9",
>>>>>>> upstream/main
=======
   "id": "2482b987",
>>>>>>> upstream/main
=======
   "id": "c9a0170e",
>>>>>>> upstream/main
   "metadata": {},
   "outputs": [],
   "source": [
    "cols = ['CollectionNum','ChapterNum','ChapterName','WordCount','BookNum']\n",
    "data = pd.DataFrame(chapters, columns=cols)"
   ]
  },
  {
   "cell_type": "code",
   "execution_count": null,
<<<<<<< HEAD
<<<<<<< HEAD
<<<<<<< HEAD
   "id": "2fd5bf51",
=======
   "id": "4eb46b2d",
>>>>>>> upstream/main
=======
   "id": "ad83472a",
>>>>>>> upstream/main
=======
   "id": "a674c701",
>>>>>>> upstream/main
   "metadata": {},
   "outputs": [],
   "source": [
    "data"
   ]
  },
  {
   "cell_type": "markdown",
<<<<<<< HEAD
<<<<<<< HEAD
<<<<<<< HEAD
   "id": "e03f3b7a",
=======
   "id": "d955d447",
>>>>>>> upstream/main
=======
   "id": "de94ddd5",
>>>>>>> upstream/main
=======
   "id": "8924d0ab",
>>>>>>> upstream/main
   "metadata": {},
   "source": [
    "Now we might want to apply the names of each of the traditional \"books\" you might think of when you think about the Lord of the Rings. To do this we need to use a function that is very powerful and flexible: [apply](https://pandas.pydata.org/docs/reference/api/pandas.DataFrame.apply.html). This function will allow us to apply an operation or function to each value in a column and save it into a new column. In this example, our \"function\" is using our *CollectionNum* to reference a book name in our list *titles*."
   ]
  },
  {
   "cell_type": "markdown",
<<<<<<< HEAD
<<<<<<< HEAD
<<<<<<< HEAD
   "id": "ee321f3a",
=======
   "id": "b438d922",
>>>>>>> upstream/main
=======
   "id": "65202848",
>>>>>>> upstream/main
=======
   "id": "e783965e",
>>>>>>> upstream/main
   "metadata": {},
   "source": [
    "The structure of the apply function is: `apply(lambda *variable* : *function*(*variable*) )`\n",
    "Where the variable represents the value in each row and the opertaion of function will return a value that can be stored in our new column."
   ]
  },
  {
   "cell_type": "code",
   "execution_count": null,
<<<<<<< HEAD
<<<<<<< HEAD
<<<<<<< HEAD
   "id": "5396ed1d",
=======
   "id": "d4d114de",
>>>>>>> upstream/main
=======
   "id": "2fa70e35",
>>>>>>> upstream/main
=======
   "id": "f4ae2450",
>>>>>>> upstream/main
   "metadata": {},
   "outputs": [],
   "source": [
    "titles = ['The Hobbit','The Fellowship of the Ring', 'The Two Towers', 'The Return of the King']\n",
    "data['CollectionName']=data['CollectionNum'].apply(lambda x: titles[x])"
   ]
  },
  {
   "cell_type": "markdown",
<<<<<<< HEAD
<<<<<<< HEAD
<<<<<<< HEAD
   "id": "8f75f46a",
=======
   "id": "d50d409f",
>>>>>>> upstream/main
=======
   "id": "7e7958bb",
>>>>>>> upstream/main
=======
   "id": "6c351dae",
>>>>>>> upstream/main
   "metadata": {},
   "source": [
    "## [GroupBy](https://pandas.pydata.org/pandas-docs/stable/reference/api/pandas.DataFrame.groupby.html)"
   ]
  },
  {
   "cell_type": "markdown",
<<<<<<< HEAD
<<<<<<< HEAD
<<<<<<< HEAD
   "id": "e294a5c9",
=======
   "id": "92410c50",
>>>>>>> upstream/main
=======
   "id": "061dc5a6",
>>>>>>> upstream/main
=======
   "id": "da004453",
>>>>>>> upstream/main
   "metadata": {},
   "source": [
    "Now that we have data for each of the chapters, we can group them using groupby. This lets us do aggregate operations like \"add all the wordcounts for each book\" or \"count how many chapters there are in each book\".\n",
    "\n",
    "Groupby is a powerful tool but if you don't understand your data, it can quickly introduce errors."
   ]
  },
  {
   "cell_type": "code",
   "execution_count": null,
<<<<<<< HEAD
<<<<<<< HEAD
<<<<<<< HEAD
   "id": "afb5dcd0",
=======
   "id": "12413502",
>>>>>>> upstream/main
=======
   "id": "127e95c7",
>>>>>>> upstream/main
=======
   "id": "fe81fb03",
>>>>>>> upstream/main
   "metadata": {},
   "outputs": [],
   "source": [
    "data.groupby(by='CollectionName').count()"
   ]
  },
  {
   "cell_type": "code",
   "execution_count": null,
<<<<<<< HEAD
<<<<<<< HEAD
<<<<<<< HEAD
   "id": "97161733",
=======
   "id": "abc1bdfe",
>>>>>>> upstream/main
=======
   "id": "653d1e70",
>>>>>>> upstream/main
=======
   "id": "232ba373",
>>>>>>> upstream/main
   "metadata": {},
   "outputs": [],
   "source": [
    "data.groupby(by='CollectionName').sum()"
   ]
  },
  {
   "cell_type": "markdown",
<<<<<<< HEAD
<<<<<<< HEAD
<<<<<<< HEAD
   "id": "09e7bc67",
=======
   "id": "1c09f1f0",
>>>>>>> upstream/main
=======
   "id": "009bff36",
>>>>>>> upstream/main
=======
   "id": "f2e9a15f",
>>>>>>> upstream/main
   "metadata": {},
   "source": [
    "## Selecting (Advanced Slicing)"
   ]
  },
  {
   "cell_type": "markdown",
<<<<<<< HEAD
<<<<<<< HEAD
<<<<<<< HEAD
   "id": "44938b5d",
=======
   "id": "c8c7e111",
>>>>>>> upstream/main
=======
   "id": "c671dfaa",
>>>>>>> upstream/main
=======
   "id": "6f223d33",
>>>>>>> upstream/main
   "metadata": {},
   "source": [
    "You can select slices of your dataframe using conditional logic as well. Conditional logic means determining if a condition is `True` or `False` and often relies on operations like: equals `==`, not `!`, and `&`, or `|`."
   ]
  },
  {
   "cell_type": "code",
   "execution_count": null,
<<<<<<< HEAD
<<<<<<< HEAD
<<<<<<< HEAD
   "id": "007c863f",
=======
   "id": "08b00e10",
>>>>>>> upstream/main
=======
   "id": "25cb2f85",
>>>>>>> upstream/main
=======
   "id": "5811c49a",
>>>>>>> upstream/main
   "metadata": {},
   "outputs": [],
   "source": [
    "df"
   ]
  },
  {
   "cell_type": "code",
   "execution_count": null,
<<<<<<< HEAD
<<<<<<< HEAD
<<<<<<< HEAD
   "id": "d3846a22",
=======
   "id": "90d93d64",
>>>>>>> upstream/main
=======
   "id": "b984bccd",
>>>>>>> upstream/main
=======
   "id": "fd3c5705",
>>>>>>> upstream/main
   "metadata": {},
   "outputs": [],
   "source": [
    "# Select values based on exact matches\n",
    "df[df['Books']=='The Hobbit']"
   ]
  },
  {
   "cell_type": "code",
   "execution_count": null,
<<<<<<< HEAD
<<<<<<< HEAD
<<<<<<< HEAD
   "id": "0dcdd995",
=======
   "id": "5ed771a4",
>>>>>>> upstream/main
=======
   "id": "d5867d6f",
>>>>>>> upstream/main
=======
   "id": "5ef71220",
>>>>>>> upstream/main
   "metadata": {},
   "outputs": [],
   "source": [
    "# Select values by negating a match\n",
    "df[df['Books']!='The Hobbit']"
   ]
  },
  {
   "cell_type": "code",
   "execution_count": null,
<<<<<<< HEAD
<<<<<<< HEAD
<<<<<<< HEAD
   "id": "9e350415",
=======
   "id": "dc85372b",
>>>>>>> upstream/main
=======
   "id": "255c9642",
>>>>>>> upstream/main
=======
   "id": "80878e34",
>>>>>>> upstream/main
   "metadata": {},
   "outputs": [],
   "source": [
    "# Select values containing substrings\n",
    "df[df['Books'].str.contains('ing')]"
   ]
  },
  {
   "cell_type": "code",
   "execution_count": null,
<<<<<<< HEAD
<<<<<<< HEAD
<<<<<<< HEAD
   "id": "143371ca",
=======
   "id": "37839f12",
>>>>>>> upstream/main
=======
   "id": "91ba08e2",
>>>>>>> upstream/main
=======
   "id": "a6be569d",
>>>>>>> upstream/main
   "metadata": {},
   "outputs": [],
   "source": [
    "# Select values on multiple conditions using different columns\n",
    "df[(df['Books'].str.contains('ing')) & (df['Words']>150000)]"
   ]
  },
  {
   "cell_type": "markdown",
<<<<<<< HEAD
<<<<<<< HEAD
<<<<<<< HEAD
   "id": "a7fd2ffc",
=======
   "id": "80531ec4",
>>>>>>> upstream/main
=======
   "id": "5506f72c",
>>>>>>> upstream/main
=======
   "id": "6704c0aa",
>>>>>>> upstream/main
   "metadata": {},
   "source": [
    "## Joining"
   ]
  },
  {
   "cell_type": "markdown",
<<<<<<< HEAD
<<<<<<< HEAD
<<<<<<< HEAD
   "id": "90a234ae",
=======
   "id": "515b8d97",
>>>>>>> upstream/main
=======
   "id": "77e8ebdc",
>>>>>>> upstream/main
=======
   "id": "f5c5fe97",
>>>>>>> upstream/main
   "metadata": {},
   "source": [
    "You can also merge 2 dataframes if you want. Merging allows you to combine datasets in new ways and is a great tool to have when working with complex datasets."
   ]
  },
  {
   "cell_type": "markdown",
<<<<<<< HEAD
<<<<<<< HEAD
<<<<<<< HEAD
   "id": "6406fac8",
=======
   "id": "789b85b1",
>>>>>>> upstream/main
=======
   "id": "bb4293af",
>>>>>>> upstream/main
=======
   "id": "cac29540",
>>>>>>> upstream/main
   "metadata": {},
   "source": [
    "First we need a second dataframe to work with. Here, we have made a dataframe with the publication year of each of of our Tolkien books."
   ]
  },
  {
   "cell_type": "code",
   "execution_count": null,
<<<<<<< HEAD
<<<<<<< HEAD
<<<<<<< HEAD
   "id": "da15ef3d",
=======
   "id": "ee50837e",
>>>>>>> upstream/main
=======
   "id": "d8acbbd8",
>>>>>>> upstream/main
=======
   "id": "e04eab5d",
>>>>>>> upstream/main
   "metadata": {},
   "outputs": [],
   "source": [
    "df"
   ]
  },
  {
   "cell_type": "code",
   "execution_count": null,
<<<<<<< HEAD
<<<<<<< HEAD
<<<<<<< HEAD
   "id": "26c5fa90",
=======
   "id": "75bd28ed",
>>>>>>> upstream/main
=======
   "id": "f6dc0b6e",
>>>>>>> upstream/main
=======
   "id": "2624d4a0",
>>>>>>> upstream/main
   "metadata": {},
   "outputs": [],
   "source": [
    "dates = pd.DataFrame({'Name':df['Books'],'Year':pd.Series([1977,1934,1954,1954,1954])})\n",
    "dates\n",
    "# NOTE: We named our column 'Name' for instructional purposes, but a better name would be 'Books' so that it matches my other dataframe.\n",
    "#       Typically you want to use a unique identifier in your data and then merge based on that column."
   ]
  },
  {
   "cell_type": "markdown",
<<<<<<< HEAD
<<<<<<< HEAD
<<<<<<< HEAD
   "id": "fda99373",
=======
   "id": "657a07f4",
>>>>>>> upstream/main
=======
   "id": "bfd34dcb",
>>>>>>> upstream/main
=======
   "id": "8589d998",
>>>>>>> upstream/main
   "metadata": {},
   "source": [
    "Now we can merge our new dates dataframe with our existing dataframe.\n",
    "\n",
    "We have done an inner join (only rows that match in both dataframes will appear in our join) where the column in the left dataframe is called \"Books\" and the column in the right dataframe is called \"Name\".\n",
    "\n",
    "More documentation on merging dataframes can be found [here](https://pandas.pydata.org/pandas-docs/stable/reference/api/pandas.DataFrame.merge.html)."
   ]
  },
  {
   "cell_type": "code",
   "execution_count": null,
<<<<<<< HEAD
<<<<<<< HEAD
<<<<<<< HEAD
   "id": "d5f0ea76",
=======
   "id": "8dc6a5ae",
>>>>>>> upstream/main
=======
   "id": "8cd46f13",
>>>>>>> upstream/main
=======
   "id": "345237e2",
>>>>>>> upstream/main
   "metadata": {},
   "outputs": [],
   "source": [
    "pd.merge(df,dates, left_on=\"Books\", right_on=\"Name\", how = 'inner')"
   ]
  },
  {
   "cell_type": "markdown",
<<<<<<< HEAD
<<<<<<< HEAD
<<<<<<< HEAD
   "id": "a950882f",
=======
   "id": "265e1852",
>>>>>>> upstream/main
=======
   "id": "06158735",
>>>>>>> upstream/main
=======
   "id": "0039c9e0",
>>>>>>> upstream/main
   "metadata": {},
   "source": [
    "Notice that our merge duplicated our matching column because they had different names. This would not happen if we had the same name for columns in both dataframes. However, will not always be the case, so you can clean up your dataframe by dropping one of the redundant columns."
   ]
  },
  {
   "cell_type": "code",
   "execution_count": null,
<<<<<<< HEAD
<<<<<<< HEAD
<<<<<<< HEAD
   "id": "74b2dbef",
=======
   "id": "e6f1affc",
>>>>>>> upstream/main
=======
   "id": "880e5c03",
>>>>>>> upstream/main
=======
   "id": "20298f86",
>>>>>>> upstream/main
   "metadata": {},
   "outputs": [],
   "source": [
    "merged = pd.merge(df,dates, left_on=\"Books\", right_on=\"Name\", how = 'inner').drop(columns=['Name'])\n",
    "merged"
   ]
  },
  {
   "cell_type": "markdown",
<<<<<<< HEAD
<<<<<<< HEAD
<<<<<<< HEAD
   "id": "d557fdbf",
=======
   "id": "4505da94",
>>>>>>> upstream/main
=======
   "id": "61fe3dfd",
>>>>>>> upstream/main
=======
   "id": "03323105",
>>>>>>> upstream/main
   "metadata": {},
   "source": [
    "# Plotting"
   ]
  },
  {
   "cell_type": "markdown",
<<<<<<< HEAD
<<<<<<< HEAD
<<<<<<< HEAD
   "id": "abf38c8a",
=======
   "id": "7cf00913",
>>>>>>> upstream/main
=======
   "id": "e68570da",
>>>>>>> upstream/main
=======
   "id": "a296b2cb",
>>>>>>> upstream/main
   "metadata": {},
   "source": [
    "Visualizing data is incredibly important when trying to convey findings. There are several libraries available for doing data visualization. Pandas has some built in plotting functionality, but we have provided access to MatPlotLib as well."
   ]
  },
  {
   "cell_type": "code",
   "execution_count": null,
<<<<<<< HEAD
<<<<<<< HEAD
<<<<<<< HEAD
   "id": "a99980b8",
=======
   "id": "f6ead48e",
>>>>>>> upstream/main
=======
   "id": "d9cac6b7",
>>>>>>> upstream/main
=======
   "id": "6ae50ec0",
>>>>>>> upstream/main
   "metadata": {},
   "outputs": [],
   "source": [
    "# This is only needed in this case because we wanted to show the names of the books. You could make a similar plot in Pandas.\n",
    "import matplotlib as plt\n",
    "%matplotlib inline\n",
    "# This allows the plot to be shown inline in the notebook"
   ]
  },
  {
   "cell_type": "code",
   "execution_count": null,
<<<<<<< HEAD
<<<<<<< HEAD
<<<<<<< HEAD
   "id": "1b3294fd",
=======
   "id": "bc3d0fe5",
>>>>>>> upstream/main
=======
   "id": "ab5d0dcd",
>>>>>>> upstream/main
=======
   "id": "6d96b076",
>>>>>>> upstream/main
   "metadata": {},
   "outputs": [],
   "source": [
    "plot = df.plot(kind='bar') # we are setting the type of plot to a bar graph\n",
    "plot.set_xticklabels(df['Books']); #This lets us rename the x axis labels"
   ]
  },
  {
   "cell_type": "markdown",
<<<<<<< HEAD
<<<<<<< HEAD
<<<<<<< HEAD
   "id": "4524d86c",
=======
   "id": "5dd97556",
>>>>>>> upstream/main
=======
   "id": "200c0699",
>>>>>>> upstream/main
=======
   "id": "d802f305",
>>>>>>> upstream/main
   "metadata": {},
   "source": [
    "## More Complex Plotting"
   ]
  },
  {
   "cell_type": "markdown",
<<<<<<< HEAD
<<<<<<< HEAD
<<<<<<< HEAD
   "id": "b9d96683",
=======
   "id": "f8a24656",
>>>>>>> upstream/main
=======
   "id": "1046fa3e",
>>>>>>> upstream/main
=======
   "id": "fb0bf394",
>>>>>>> upstream/main
   "metadata": {},
   "source": [
    "Lastly, we can combine several of the things we have learned into a single plot. Here we can group each book together and then look at the word counts by chapter throughout the story."
   ]
  },
  {
   "cell_type": "markdown",
<<<<<<< HEAD
<<<<<<< HEAD
<<<<<<< HEAD
   "id": "3ac6f9e9",
=======
   "id": "02bc987f",
>>>>>>> upstream/main
=======
   "id": "45f6f51d",
>>>>>>> upstream/main
=======
   "id": "afbd06bf",
>>>>>>> upstream/main
   "metadata": {},
   "source": [
    "First, we want to come up with a way to step through the books in a linear way. We have provided a few ways to do this in increasing complexity."
   ]
  },
  {
   "cell_type": "code",
   "execution_count": null,
<<<<<<< HEAD
<<<<<<< HEAD
<<<<<<< HEAD
   "id": "895b4b18",
=======
   "id": "e28fd116",
>>>>>>> upstream/main
=======
   "id": "9df632ca",
>>>>>>> upstream/main
=======
   "id": "8b95a38c",
>>>>>>> upstream/main
   "metadata": {},
   "outputs": [],
   "source": [
    "# Simple - add the collection number to the chapter number divided by 10\n",
    "data['BookChapter'] = data['CollectionNum']+0.1*data['ChapterNum']\n",
    "\n",
    "# Much better - add the book number to the chapter number divided by 10\n",
    "#data['BookChapter'] = data['BookNum']+0.1*data['ChapterNum']\n",
    "\n",
    "# Best but complicated - add the book number to the chapter number scaled by 1/n where n is the max number of chapters in that book.\n",
    "#data['BookChapter']=data.apply(lambda x: x['BookNum']+(1/data.groupby(by='BookNum').max()['ChapterNum'][x['BookNum']])*x['ChapterNum'], axis=1)"
   ]
  },
  {
   "cell_type": "code",
   "execution_count": null,
<<<<<<< HEAD
<<<<<<< HEAD
<<<<<<< HEAD
   "id": "ed999599",
=======
   "id": "76fedb28",
>>>>>>> upstream/main
=======
   "id": "f37b4f12",
>>>>>>> upstream/main
=======
   "id": "3358625a",
>>>>>>> upstream/main
   "metadata": {},
   "outputs": [],
   "source": [
    "groups = data.groupby(\"CollectionName\")\n",
    "\n",
    "for name, group in groups:\n",
    "\n",
    "    plt.pyplot.plot(group[\"BookChapter\"], group[\"WordCount\"],label=name)\n",
    "\n",
    "plt.pyplot.legend()\n"
   ]
  },
  {
   "cell_type": "markdown",
<<<<<<< HEAD
<<<<<<< HEAD
<<<<<<< HEAD
   "id": "240c9d12",
=======
   "id": "fa82e8d5",
>>>>>>> upstream/main
=======
   "id": "f5bdca7f",
>>>>>>> upstream/main
=======
   "id": "2ed16be5",
>>>>>>> upstream/main
   "metadata": {},
   "source": [
    " Notice that the prologue materials in *The Fellowship of the Ring* cause it to overlap with the *Hobbit*. If we wanted to resolve this, we would need to revisit our conventions in our data."
   ]
  },
  {
   "cell_type": "markdown",
<<<<<<< HEAD
<<<<<<< HEAD
<<<<<<< HEAD
   "id": "4ede4c4e",
=======
   "id": "7f20049d",
>>>>>>> upstream/main
=======
   "id": "9573496c",
>>>>>>> upstream/main
=======
   "id": "76eb5ccb",
>>>>>>> upstream/main
   "metadata": {},
   "source": [
    "# Wrapping up"
   ]
  },
  {
   "cell_type": "markdown",
<<<<<<< HEAD
<<<<<<< HEAD
<<<<<<< HEAD
   "id": "96a6edb2",
=======
   "id": "7984137e",
>>>>>>> upstream/main
=======
   "id": "b7694143",
>>>>>>> upstream/main
=======
   "id": "0dfc0f1d",
>>>>>>> upstream/main
   "metadata": {},
   "source": [
    "We covered:\n",
    "- Basic Math\n",
    "- Variables and Objects\n",
    "- Dictionaries\n",
    "- Loops and Functions\n",
    "- DataFrames in Pandas\n",
    "- Plotting"
   ]
  }
 ],
 "metadata": {
  "jupytext": {
   "formats": "ipynb"
  },
  "kernelspec": {
   "display_name": "Python 3",
   "language": "python",
   "name": "python3"
  }
 },
 "nbformat": 4,
 "nbformat_minor": 5
}
