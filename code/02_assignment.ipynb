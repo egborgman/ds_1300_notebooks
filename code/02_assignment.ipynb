{
 "cells": [
  {
   "cell_type": "markdown",
<<<<<<< HEAD
<<<<<<< HEAD
   "id": "42363fa4",
=======
   "id": "772d1122",
>>>>>>> upstream/main
=======
   "id": "a0fd4672",
>>>>>>> upstream/main
   "metadata": {},
   "source": [
    "# Assignment: Working with Data"
   ]
  },
  {
   "cell_type": "markdown",
<<<<<<< HEAD
<<<<<<< HEAD
   "id": "00bb7099",
=======
   "id": "c33639d9",
>>>>>>> upstream/main
=======
   "id": "1b4e5b04",
>>>>>>> upstream/main
   "metadata": {},
   "source": [
    ">Using the data below, answer the following questions:\n",
    "\n",
    ">1) Which entities (top 5) had the largest population density in 2020?\n",
    ">2) Which entities have more water area than land area?\n",
    ">3) Which entities increased in population the most in the last 10 years?\n",
    ">4) What state bird accounts for the largest population as of 2020? Land area?\n",
    ">5) How many entities' largest city is their capital city?\n",
    ">6) Which city has the largest percent drop from their largest city to their 5th largest? 100*(1st largest - 5th largest)/(1st largest)"
   ]
  },
  {
   "cell_type": "code",
   "execution_count": null,
<<<<<<< HEAD
<<<<<<< HEAD
   "id": "ee28c432",
=======
   "id": "92751893",
>>>>>>> upstream/main
=======
   "id": "8a7a10a4",
>>>>>>> upstream/main
   "metadata": {},
   "outputs": [],
   "source": [
    "import pandas as pd"
   ]
  },
  {
   "cell_type": "code",
   "execution_count": null,
<<<<<<< HEAD
<<<<<<< HEAD
   "id": "b9a1a021",
=======
   "id": "89fcf7fd",
>>>>>>> upstream/main
=======
   "id": "4dc13ffd",
>>>>>>> upstream/main
   "metadata": {},
   "outputs": [],
   "source": [
    "facts = pd.read_csv('../data/state_facts.tsv',delimiter=\"\\t\")\n",
    "facts.head(5)"
   ]
  },
  {
   "cell_type": "markdown",
<<<<<<< HEAD
<<<<<<< HEAD
   "id": "62c9c0b9",
=======
   "id": "775c186a",
>>>>>>> upstream/main
=======
   "id": "de3058ef",
>>>>>>> upstream/main
   "metadata": {},
   "source": [
    ">Using the \"state_dates.tsv\" data, answer the remaining questions. You will need to merge the two data sets together:\n",
    "\n",
    ">7) Of the states that joined the United States before 1790, what is the most common state flower?\n",
    ">8) Which has the larger population density, the most dense US Territory or the least dense state?\n",
    ">9) Make a graph that plots the populations of the largest city in each entity in the order in which they joined the US. Make the bars black\n",
    ">10) Make two additional graphs like the one above but one for land area (green bars) and one for water area (blue bars)"
   ]
  },
  {
   "cell_type": "markdown",
<<<<<<< HEAD
<<<<<<< HEAD
   "id": "4bcb8d80",
=======
   "id": "14560b58",
>>>>>>> upstream/main
=======
   "id": "a2a9482b",
>>>>>>> upstream/main
   "metadata": {},
   "source": [
    "Hint: `pd.read_csv('../data/state_dates.tsv',delimiter=\"\\t\")`\n",
    "\n",
    "Hint: You likely want to convert the Date column to datetime. You might have to correct errors in the data as well.\n",
    "\n",
    "Hint: `states['Date']<pd.datetime(1790,1,1)`\n",
    "\n",
    "Hint: `pd.merge(****,****,left_on='USPS_code',right_on='Abbreviation',how='outer')`"
   ]
  },
  {
   "cell_type": "code",
   "execution_count": null,
<<<<<<< HEAD
<<<<<<< HEAD
   "id": "3e48ddcd",
=======
   "id": "ec1a0ad7",
>>>>>>> upstream/main
=======
   "id": "c58f1cbd",
>>>>>>> upstream/main
   "metadata": {},
   "outputs": [],
   "source": [
    "# Sample code to help with the plots\n",
    "\n",
    "#import matplotlib as plt\n",
    "#%config InlineBackend.figure_format ='retina' #This makes your plot clearer\n",
    "\n",
    "\n",
    "#plot = *your df by date*[[*column*,'Abbreviation']].plot(kind='bar',figsize=(10,4))\n",
    "#plot.set_xticklabels(*your df by date*['Abbreviation']);"
   ]
  },
  {
   "cell_type": "code",
   "execution_count": null,
<<<<<<< HEAD
<<<<<<< HEAD
   "id": "413df1d6",
=======
   "id": "4fd0ca6f",
>>>>>>> upstream/main
=======
   "id": "accf16d8",
>>>>>>> upstream/main
   "metadata": {},
   "outputs": [],
   "source": []
  }
 ],
 "metadata": {
  "jupytext": {
   "formats": "ipynb"
  },
  "kernelspec": {
   "display_name": "Python 3",
   "language": "python",
   "name": "python3"
  }
 },
 "nbformat": 4,
 "nbformat_minor": 5
}
