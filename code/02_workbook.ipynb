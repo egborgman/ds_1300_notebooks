{
 "cells": [
  {
   "cell_type": "markdown",
<<<<<<< HEAD
<<<<<<< HEAD
   "id": "e64a551c",
=======
   "id": "90c2ca50",
>>>>>>> upstream/main
=======
   "id": "3adf1759",
>>>>>>> upstream/main
   "metadata": {},
   "source": [
    "# Working with Data"
   ]
  },
  {
   "cell_type": "markdown",
<<<<<<< HEAD
<<<<<<< HEAD
   "id": "6ff615ca",
=======
   "id": "d1f4c5b8",
>>>>>>> upstream/main
=======
   "id": "828bb1af",
>>>>>>> upstream/main
   "metadata": {},
   "source": [
    "By: Dr. Eric Godat and Dr. Rob Kalescky "
   ]
  },
  {
   "cell_type": "markdown",
<<<<<<< HEAD
<<<<<<< HEAD
   "id": "41d4f614",
=======
   "id": "a16ab195",
>>>>>>> upstream/main
=======
   "id": "81c6b1bb",
>>>>>>> upstream/main
   "metadata": {},
   "source": [
    "As implied by the name, a Data Scientist needs to be able to work with data. However, what consitutes data can vary wildly depending on the project you're working on.\n",
    "\n",
    "In this notebook, we will dive into a few common types of data and some of the common pitfalls you'll encounter."
   ]
  },
  {
   "cell_type": "code",
   "execution_count": null,
<<<<<<< HEAD
<<<<<<< HEAD
   "id": "e1edc31c",
=======
   "id": "da6ac3ad",
>>>>>>> upstream/main
=======
   "id": "1550bffe",
>>>>>>> upstream/main
   "metadata": {},
   "outputs": [],
   "source": [
    "import pandas as pd"
   ]
  },
  {
   "cell_type": "markdown",
<<<<<<< HEAD
<<<<<<< HEAD
   "id": "0e79277b",
=======
   "id": "40be0af3",
>>>>>>> upstream/main
=======
   "id": "c100bed1",
>>>>>>> upstream/main
   "metadata": {},
   "source": [
    "## Loading Data into Python"
   ]
  },
  {
   "cell_type": "markdown",
<<<<<<< HEAD
<<<<<<< HEAD
   "id": "754628bc",
=======
   "id": "181a04dd",
>>>>>>> upstream/main
=======
   "id": "629f3fbf",
>>>>>>> upstream/main
   "metadata": {},
   "source": [
    "The first step is getting data into python. While you could type the data into a dictionary, list, or other data format, that quickly becomes unsustainable. Fortunately there are several ways to load our data directly. "
   ]
  },
  {
   "cell_type": "markdown",
<<<<<<< HEAD
<<<<<<< HEAD
   "id": "ad2655ba",
=======
   "id": "b6442246",
>>>>>>> upstream/main
=======
   "id": "6e3f1754",
>>>>>>> upstream/main
   "metadata": {},
   "source": [
    "### From csv"
   ]
  },
  {
   "cell_type": "markdown",
<<<<<<< HEAD
<<<<<<< HEAD
   "id": "19b31eeb",
=======
   "id": "50779057",
>>>>>>> upstream/main
=======
   "id": "b8c67052",
>>>>>>> upstream/main
   "metadata": {},
   "source": [
    "The easiest way to load data is to use pandas to [read a csv](https://pandas.pydata.org/docs/reference/api/pandas.read_csv.html) (comma separated values) file into a data frame. This also works with other deliminators (things that split your data fields) too."
   ]
  },
  {
   "cell_type": "code",
   "execution_count": null,
<<<<<<< HEAD
<<<<<<< HEAD
   "id": "b530db02",
=======
   "id": "e7ba2037",
>>>>>>> upstream/main
=======
   "id": "445d9385",
>>>>>>> upstream/main
   "metadata": {},
   "outputs": [],
   "source": [
    "df = pd.read_csv(\"../data/sample_data.csv\") # This means that our data lives one level up (..) and in a directory named data\n",
    "df"
   ]
  },
  {
   "cell_type": "markdown",
<<<<<<< HEAD
<<<<<<< HEAD
   "id": "fc303607",
=======
   "id": "173d7a0a",
>>>>>>> upstream/main
=======
   "id": "48e0f472",
>>>>>>> upstream/main
   "metadata": {},
   "source": [
    "## Numbers as Data"
   ]
  },
  {
   "cell_type": "markdown",
<<<<<<< HEAD
<<<<<<< HEAD
   "id": "7794c11a",
=======
   "id": "96fd4f8c",
>>>>>>> upstream/main
=======
   "id": "83c95cad",
>>>>>>> upstream/main
   "metadata": {},
   "source": [
    "The most classic example of data (and the one most people think of when you say data) is numerical data.\n",
    "\n",
    "Using the data we just loaded. Let's ask a question and work towards a solution.\n",
    "\n",
    "Before we start, let's look at two neat tricks that will come in handy as we explore our data."
   ]
  },
  {
   "cell_type": "code",
   "execution_count": null,
<<<<<<< HEAD
<<<<<<< HEAD
   "id": "30cc2071",
=======
   "id": "1a1277c1",
>>>>>>> upstream/main
=======
   "id": "93820899",
>>>>>>> upstream/main
   "metadata": {},
   "outputs": [],
   "source": [
    "# Trick 1: Getting a list of columns names\n",
    "df.columns"
   ]
  },
  {
   "cell_type": "code",
   "execution_count": null,
<<<<<<< HEAD
<<<<<<< HEAD
   "id": "c56db86d",
=======
   "id": "bc80b950",
>>>>>>> upstream/main
=======
   "id": "63b40b87",
>>>>>>> upstream/main
   "metadata": {},
   "outputs": [],
   "source": [
    "# Trick 2: Slicing multiple columns\n",
    "df[['Property','bedrooms','bathrooms']] # Rember that a single [] will give us a single column. Using [[]] lets us select multiple columns"
   ]
  },
  {
   "cell_type": "code",
   "execution_count": null,
<<<<<<< HEAD
<<<<<<< HEAD
   "id": "13a789ae",
=======
   "id": "bdb0f281",
>>>>>>> upstream/main
=======
   "id": "be572214",
>>>>>>> upstream/main
   "metadata": {},
   "outputs": [],
   "source": [
    "# Trick 3: Only showing a few lines\n",
    "df.head(3)"
   ]
  },
  {
   "cell_type": "code",
   "execution_count": null,
<<<<<<< HEAD
<<<<<<< HEAD
   "id": "edf4a8c3",
=======
   "id": "5184107c",
>>>>>>> upstream/main
=======
   "id": "80e9c6e5",
>>>>>>> upstream/main
   "metadata": {},
   "outputs": [],
   "source": [
    "df.tail(3)"
   ]
  },
  {
   "cell_type": "markdown",
<<<<<<< HEAD
<<<<<<< HEAD
   "id": "55c16581",
=======
   "id": "e86d9e7c",
>>>>>>> upstream/main
=======
   "id": "e343a1a4",
>>>>>>> upstream/main
   "metadata": {},
   "source": [
    "### Question 1) Which property increased in value the most from price 1 to price 3?\n",
    "\n",
    "Let's assume that our data means price in year 1, year 2, year 3. This is a guess we have to make because we don't know much about where this data comes from.\n"
   ]
  },
  {
   "cell_type": "markdown",
<<<<<<< HEAD
<<<<<<< HEAD
   "id": "788c7214",
=======
   "id": "b7a3e4ba",
>>>>>>> upstream/main
=======
   "id": "da0ac93e",
>>>>>>> upstream/main
   "metadata": {},
   "source": [
    "Now that we have a little less to look at, we want to make a column with the increase in price."
   ]
  },
  {
   "cell_type": "code",
   "execution_count": null,
<<<<<<< HEAD
<<<<<<< HEAD
   "id": "76fdf1fb",
=======
   "id": "1deb7213",
>>>>>>> upstream/main
=======
   "id": "a832f2ba",
>>>>>>> upstream/main
   "metadata": {},
   "outputs": [],
   "source": [
    "df['increase'] = df['price_3']-df['price_1'] #operation on 2 columns, saving to a new column"
   ]
  },
  {
   "cell_type": "code",
   "execution_count": null,
<<<<<<< HEAD
<<<<<<< HEAD
   "id": "c2ae046c",
=======
   "id": "75f33a4f",
>>>>>>> upstream/main
=======
   "id": "9321b96a",
>>>>>>> upstream/main
   "metadata": {},
   "outputs": [],
   "source": [
    "df"
   ]
  },
  {
   "cell_type": "code",
   "execution_count": null,
<<<<<<< HEAD
<<<<<<< HEAD
   "id": "78f47095",
=======
   "id": "83da9209",
>>>>>>> upstream/main
=======
   "id": "7838d92f",
>>>>>>> upstream/main
   "metadata": {},
   "outputs": [],
   "source": [
    "df.sort_values(by='increase',ascending=False) #Sort values by the column 'increase', we want the largest values at the top so ascending needs to be false"
   ]
  },
  {
   "cell_type": "markdown",
<<<<<<< HEAD
<<<<<<< HEAD
   "id": "ddabcbfb",
=======
   "id": "c2bf5833",
>>>>>>> upstream/main
=======
   "id": "394a06c0",
>>>>>>> upstream/main
   "metadata": {},
   "source": [
    "Answer 1) Property F has increased the most in value"
   ]
  },
  {
   "cell_type": "markdown",
<<<<<<< HEAD
<<<<<<< HEAD
   "id": "e24f0cc9",
=======
   "id": "ab0168c6",
>>>>>>> upstream/main
=======
   "id": "6e6aea5a",
>>>>>>> upstream/main
   "metadata": {},
   "source": [
    "### Question 2) Which property is the best price (year_3) per square foot (sqft)?"
   ]
  },
  {
   "cell_type": "code",
   "execution_count": null,
<<<<<<< HEAD
<<<<<<< HEAD
   "id": "2c31ad67",
=======
   "id": "1650a9e9",
>>>>>>> upstream/main
=======
   "id": "18478269",
>>>>>>> upstream/main
   "metadata": {},
   "outputs": [],
   "source": [
    "df['p/sqft']=df['price_3']/df['sqft']"
   ]
  },
  {
   "cell_type": "code",
   "execution_count": null,
<<<<<<< HEAD
<<<<<<< HEAD
   "id": "6aebe8e0",
=======
   "id": "de2fd3c8",
>>>>>>> upstream/main
=======
   "id": "ce8044ad",
>>>>>>> upstream/main
   "metadata": {},
   "outputs": [],
   "source": [
    "df.sort_values(by='p/sqft',ascending=False)"
   ]
  },
  {
   "cell_type": "markdown",
<<<<<<< HEAD
<<<<<<< HEAD
   "id": "aaf00c81",
=======
   "id": "30091af4",
>>>>>>> upstream/main
=======
   "id": "404a08ec",
>>>>>>> upstream/main
   "metadata": {},
   "source": [
    "Answer 2) Property C has the best price per square foot"
   ]
  },
  {
   "cell_type": "markdown",
<<<<<<< HEAD
<<<<<<< HEAD
   "id": "405642c1",
=======
   "id": "217e389e",
>>>>>>> upstream/main
=======
   "id": "cc328f74",
>>>>>>> upstream/main
   "metadata": {},
   "source": [
    "### Question 3) I'm in the market for a house that has more than 3 bedrooms and more than 2 bathrooms, what are my options?"
   ]
  },
  {
   "cell_type": "code",
   "execution_count": null,
<<<<<<< HEAD
<<<<<<< HEAD
   "id": "598fa4d8",
=======
   "id": "8555f61b",
>>>>>>> upstream/main
=======
   "id": "f9156381",
>>>>>>> upstream/main
   "metadata": {},
   "outputs": [],
   "source": [
    "df[(df['bedrooms']>3)&(df['bathrooms']>2)]"
   ]
  },
  {
   "cell_type": "markdown",
<<<<<<< HEAD
<<<<<<< HEAD
   "id": "52ad57b4",
=======
   "id": "c60ee247",
>>>>>>> upstream/main
=======
   "id": "eb1e9987",
>>>>>>> upstream/main
   "metadata": {},
   "source": [
    "Answer 3) B or C are good options for what I'm looking for"
   ]
  },
  {
   "cell_type": "markdown",
<<<<<<< HEAD
<<<<<<< HEAD
   "id": "aa27c9cd",
=======
   "id": "9b55cb78",
>>>>>>> upstream/main
=======
   "id": "3617e0cc",
>>>>>>> upstream/main
   "metadata": {},
   "source": [
    "### Question 4) I'm a relator and trying to write a formula for the best house to show my clients. I want to show them the place with high bed/bath/sqft with a low price but consistent growth. How could I make that determination?"
   ]
  },
  {
   "cell_type": "markdown",
<<<<<<< HEAD
<<<<<<< HEAD
   "id": "54f6fac5",
=======
   "id": "ae00fa43",
>>>>>>> upstream/main
=======
   "id": "f7b789d4",
>>>>>>> upstream/main
   "metadata": {},
   "source": [
    "Let's break this one down into smaller pieces. I need to:\n",
    "- Combine bedrooms, bathrooms, and sqft into a single number (larger is better)\n",
    "- Factor in price (smaller is better)\n",
    "- Consistent growth, maybe this could be an average of price_1 -> price_2 and price_2 -> price_3 ? Maybe we need to think about this one.\n",
    "- Combine all of this into a single score\n",
    "- Finally sort and cut the results down for the client"
   ]
  },
  {
   "cell_type": "code",
   "execution_count": null,
<<<<<<< HEAD
<<<<<<< HEAD
   "id": "ccb33416",
=======
   "id": "0bc4ddcb",
>>>>>>> upstream/main
=======
   "id": "7bb8f841",
>>>>>>> upstream/main
   "metadata": {},
   "outputs": [],
   "source": [
    "df['bbsqft'] = (df['bedrooms']+df['bathrooms'])*df['sqft']"
   ]
  },
  {
   "cell_type": "code",
   "execution_count": null,
<<<<<<< HEAD
<<<<<<< HEAD
   "id": "d66f9c02",
=======
   "id": "2adf1729",
>>>>>>> upstream/main
=======
   "id": "b33793bc",
>>>>>>> upstream/main
   "metadata": {},
   "outputs": [],
   "source": [
    "df['bbsqft/p3'] = df['bbsqft']/df['price_3']"
   ]
  },
  {
   "cell_type": "code",
   "execution_count": null,
<<<<<<< HEAD
<<<<<<< HEAD
   "id": "35981c88",
=======
   "id": "4a0b9620",
>>>>>>> upstream/main
=======
   "id": "e6af6458",
>>>>>>> upstream/main
   "metadata": {},
   "outputs": [],
   "source": [
    "df['p2-p1'] = df['price_2']-df['price_1']"
   ]
  },
  {
   "cell_type": "code",
   "execution_count": null,
<<<<<<< HEAD
<<<<<<< HEAD
   "id": "995d73fa",
=======
   "id": "3b040fd8",
>>>>>>> upstream/main
=======
   "id": "e35045eb",
>>>>>>> upstream/main
   "metadata": {},
   "outputs": [],
   "source": [
    "df['p3-p2'] = df['price_3']-df['price_2']"
   ]
  },
  {
   "cell_type": "code",
   "execution_count": null,
<<<<<<< HEAD
<<<<<<< HEAD
   "id": "f109999b",
=======
   "id": "858d237e",
>>>>>>> upstream/main
=======
   "id": "62001c3d",
>>>>>>> upstream/main
   "metadata": {},
   "outputs": [],
   "source": [
    "df['growth_1'] = (df['p3-p2']+df['p2-p1'])/2"
   ]
  },
  {
   "cell_type": "code",
   "execution_count": null,
<<<<<<< HEAD
<<<<<<< HEAD
   "id": "7e5378f2",
=======
   "id": "39b0c1c7",
>>>>>>> upstream/main
=======
   "id": "c730a052",
>>>>>>> upstream/main
   "metadata": {},
   "outputs": [],
   "source": [
    "#This gives us a boolean column. Booleans can act like 1 (True) and 0 (False) if we want to use them in calculations\n",
    "df['growth_2'] = df['p3-p2']>=df['p2-p1']\n",
    "#This will let us zero out scores that don't meet our criteria"
   ]
  },
  {
   "cell_type": "code",
   "execution_count": null,
<<<<<<< HEAD
<<<<<<< HEAD
   "id": "c7741f32",
=======
   "id": "055c9379",
>>>>>>> upstream/main
=======
   "id": "ce6a41be",
>>>>>>> upstream/main
   "metadata": {},
   "outputs": [],
   "source": [
    "df['score'] = 100*df['bbsqft/p3']*df['growth_1']*df['growth_2'] # Added a scaling factor to make the numbers easier"
   ]
  },
  {
   "cell_type": "code",
   "execution_count": null,
<<<<<<< HEAD
<<<<<<< HEAD
   "id": "5e92342e",
=======
   "id": "f6e733de",
>>>>>>> upstream/main
=======
   "id": "b6291810",
>>>>>>> upstream/main
   "metadata": {},
   "outputs": [],
   "source": [
    "df[['Property','price_3','bedrooms','bathrooms','score']].sort_values(by='score',ascending=False)"
   ]
  },
  {
   "cell_type": "markdown",
<<<<<<< HEAD
<<<<<<< HEAD
   "id": "6defdedc",
=======
   "id": "6665733b",
>>>>>>> upstream/main
=======
   "id": "9aaaa23f",
>>>>>>> upstream/main
   "metadata": {},
   "source": [
    "If I find out later that my client has a budget of 600, can I adapt my data to only show them those?"
   ]
  },
  {
   "cell_type": "code",
   "execution_count": null,
<<<<<<< HEAD
<<<<<<< HEAD
   "id": "3a776ed0",
=======
   "id": "b5cd0125",
>>>>>>> upstream/main
=======
   "id": "6f171471",
>>>>>>> upstream/main
   "metadata": {},
   "outputs": [],
   "source": [
    "df[df['price_3']<600]"
   ]
  },
  {
   "cell_type": "code",
   "execution_count": null,
<<<<<<< HEAD
<<<<<<< HEAD
   "id": "99cbf932",
=======
   "id": "94437bc2",
>>>>>>> upstream/main
=======
   "id": "21666aae",
>>>>>>> upstream/main
   "metadata": {},
   "outputs": [],
   "source": [
    "df[df['price_3']<600][['Property','price_3','bedrooms','bathrooms','score']].sort_values(by='score',ascending=False)"
   ]
  },
  {
   "cell_type": "markdown",
<<<<<<< HEAD
<<<<<<< HEAD
   "id": "14847543",
=======
   "id": "32ebdb95",
>>>>>>> upstream/main
=======
   "id": "0e170270",
>>>>>>> upstream/main
   "metadata": {},
   "source": [
    "Looks like I should start by showing my client property A\n",
    "\n",
    "**Is this the only way I could do this? What could we change?**"
   ]
  },
  {
   "cell_type": "markdown",
<<<<<<< HEAD
<<<<<<< HEAD
   "id": "1cdaac91",
=======
   "id": "2a007106",
>>>>>>> upstream/main
=======
   "id": "8996b993",
>>>>>>> upstream/main
   "metadata": {},
   "source": [
    "## Text as Data"
   ]
  },
  {
   "cell_type": "markdown",
<<<<<<< HEAD
<<<<<<< HEAD
   "id": "5625ec7c",
=======
   "id": "044d5c2d",
>>>>>>> upstream/main
=======
   "id": "63bd6c43",
>>>>>>> upstream/main
   "metadata": {},
   "source": [
    "A type of data that has become especially popular and powerful to investigate is text. Turns out there is a lot that we can learn by looking at what we write down. We'll spend more time working with text later in the class but for now, we'll just load the data and do some basic parsing."
   ]
  },
  {
   "cell_type": "code",
   "execution_count": null,
<<<<<<< HEAD
<<<<<<< HEAD
   "id": "5ffe9bae",
=======
   "id": "b56a039f",
>>>>>>> upstream/main
=======
   "id": "4213ff0c",
>>>>>>> upstream/main
   "metadata": {},
   "outputs": [],
   "source": [
    "df = pd.read_csv(\"../data/folktales.csv\")"
   ]
  },
  {
   "cell_type": "code",
   "execution_count": null,
<<<<<<< HEAD
<<<<<<< HEAD
   "id": "5420d47d",
=======
   "id": "39115327",
>>>>>>> upstream/main
=======
   "id": "fa26852d",
>>>>>>> upstream/main
   "metadata": {},
   "outputs": [],
   "source": [
    "df"
   ]
  },
  {
   "cell_type": "markdown",
<<<<<<< HEAD
<<<<<<< HEAD
   "id": "0bfeefa4",
=======
   "id": "7dce9ecb",
>>>>>>> upstream/main
=======
   "id": "3e2bc490",
>>>>>>> upstream/main
   "metadata": {},
   "source": [
    "### Question 1) What countries do we have stories from?"
   ]
  },
  {
   "cell_type": "code",
   "execution_count": null,
<<<<<<< HEAD
<<<<<<< HEAD
   "id": "93f29b2b",
=======
   "id": "c3384f4e",
>>>>>>> upstream/main
=======
   "id": "ab64bacd",
>>>>>>> upstream/main
   "metadata": {},
   "outputs": [],
   "source": [
    "df['Country of Origin'].values"
   ]
  },
  {
   "cell_type": "code",
   "execution_count": null,
<<<<<<< HEAD
<<<<<<< HEAD
   "id": "6cd9aa32",
=======
   "id": "219ffb98",
>>>>>>> upstream/main
=======
   "id": "459170cc",
>>>>>>> upstream/main
   "metadata": {},
   "outputs": [],
   "source": [
    "# How about a more compressed list\n",
    "df['Country of Origin'].value_counts()"
   ]
  },
  {
   "cell_type": "markdown",
<<<<<<< HEAD
<<<<<<< HEAD
   "id": "7d1fcd97",
=======
   "id": "5348fa03",
>>>>>>> upstream/main
=======
   "id": "1f349e38",
>>>>>>> upstream/main
   "metadata": {},
   "source": [
    "### Question 2) What fraction of my stories were written by the Brothers Grimm?"
   ]
  },
  {
   "cell_type": "code",
   "execution_count": null,
<<<<<<< HEAD
<<<<<<< HEAD
   "id": "21e22e4e",
=======
   "id": "14bfa8ee",
>>>>>>> upstream/main
=======
   "id": "e1b320e4",
>>>>>>> upstream/main
   "metadata": {},
   "outputs": [],
   "source": [
    "total_stories = len(df)\n",
    "total_stories"
   ]
  },
  {
   "cell_type": "code",
   "execution_count": null,
<<<<<<< HEAD
<<<<<<< HEAD
   "id": "2e3140e1",
=======
   "id": "e139f5c5",
>>>>>>> upstream/main
=======
   "id": "b1df52d5",
>>>>>>> upstream/main
   "metadata": {},
   "outputs": [],
   "source": [
    "grimm = len(df[(df['Author'].str.contains('Grimm'))==True])\n",
    "grimm"
   ]
  },
  {
   "cell_type": "code",
   "execution_count": null,
<<<<<<< HEAD
<<<<<<< HEAD
   "id": "ef07dbcf",
=======
   "id": "9233afa0",
>>>>>>> upstream/main
=======
   "id": "b64222f0",
>>>>>>> upstream/main
   "metadata": {},
   "outputs": [],
   "source": [
    "grimm/total_stories"
   ]
  },
  {
   "cell_type": "markdown",
<<<<<<< HEAD
<<<<<<< HEAD
   "id": "31098cb7",
=======
   "id": "bc894d49",
>>>>>>> upstream/main
=======
   "id": "99140053",
>>>>>>> upstream/main
   "metadata": {},
   "source": [
    "### Question 3) How many titles contain animals?"
   ]
  },
  {
   "cell_type": "markdown",
<<<<<<< HEAD
<<<<<<< HEAD
   "id": "8347536f",
=======
   "id": "c74bdb76",
>>>>>>> upstream/main
=======
   "id": "1f6843a5",
>>>>>>> upstream/main
   "metadata": {},
   "source": [
    "How would I even do this?"
   ]
  },
  {
   "cell_type": "code",
   "execution_count": null,
<<<<<<< HEAD
<<<<<<< HEAD
   "id": "8eeefa66",
=======
   "id": "230fdbcb",
>>>>>>> upstream/main
=======
   "id": "09cc780f",
>>>>>>> upstream/main
   "metadata": {},
   "outputs": [],
   "source": [
    "df['Title'].str.contains('animals').value_counts()"
   ]
  },
  {
   "cell_type": "markdown",
<<<<<<< HEAD
<<<<<<< HEAD
   "id": "054168f4",
=======
   "id": "163c6ba7",
>>>>>>> upstream/main
=======
   "id": "4000b08a",
>>>>>>> upstream/main
   "metadata": {},
   "source": [
    "That clearly doesn't seem like what the question is asking... Maybe this isn't something we can answer. Why not? What would we need to answer this question?"
   ]
  },
  {
   "cell_type": "markdown",
<<<<<<< HEAD
<<<<<<< HEAD
   "id": "f8254307",
=======
   "id": "b982c34d",
>>>>>>> upstream/main
=======
   "id": "9264d749",
>>>>>>> upstream/main
   "metadata": {},
   "source": [
    "## People as Data"
   ]
  },
  {
   "cell_type": "markdown",
<<<<<<< HEAD
<<<<<<< HEAD
   "id": "d74f10b1",
=======
   "id": "8c99bac6",
>>>>>>> upstream/main
=======
   "id": "5a2df391",
>>>>>>> upstream/main
   "metadata": {},
   "source": [
    "Another common type of data set is personal information. Just think of every sign up sheet, grade book, or class roster. One major problem with personal data is that people generally don't fit into clean data \"boxes\"."
   ]
  },
  {
   "cell_type": "code",
   "execution_count": null,
<<<<<<< HEAD
<<<<<<< HEAD
   "id": "cf50d358",
=======
   "id": "07effb30",
>>>>>>> upstream/main
=======
   "id": "77d3ff83",
>>>>>>> upstream/main
   "metadata": {},
   "outputs": [],
   "source": [
    "messy = pd.read_csv(\"../data/messy_data.csv\",delimiter=\";\")\n",
    "messy"
   ]
  },
  {
   "cell_type": "markdown",
<<<<<<< HEAD
<<<<<<< HEAD
   "id": "1d22b5c4",
=======
   "id": "787e4838",
>>>>>>> upstream/main
=======
   "id": "f7cbc01d",
>>>>>>> upstream/main
   "metadata": {},
   "source": [
    "Let's just look at this data. How many data issues can you find that would hinder an analysis? How would you handle it?"
   ]
  },
  {
   "cell_type": "markdown",
<<<<<<< HEAD
<<<<<<< HEAD
   "id": "efb70ee9",
=======
   "id": "7e4ea500",
>>>>>>> upstream/main
=======
   "id": "3e48079c",
>>>>>>> upstream/main
   "metadata": {},
   "source": [
    "## Tricks for messy data"
   ]
  },
  {
   "cell_type": "markdown",
<<<<<<< HEAD
<<<<<<< HEAD
   "id": "27e847e3",
=======
   "id": "ca1d61b0",
>>>>>>> upstream/main
=======
   "id": "84dbcbdc",
>>>>>>> upstream/main
   "metadata": {},
   "source": [
    "#### Names"
   ]
  },
  {
   "cell_type": "markdown",
<<<<<<< HEAD
<<<<<<< HEAD
   "id": "9a21e2d5",
=======
   "id": "cb4682b5",
>>>>>>> upstream/main
=======
   "id": "96c86762",
>>>>>>> upstream/main
   "metadata": {},
   "source": [
    "One common problem is that names tend to be really bad ways to identify people. Why is that?\n",
    "\n",
    "A solution to this is to use something called a unique identifier (think your SMU ID number). A unique identifier can be used instead of a name because it will have a standard format and generally can be used to link an individual across multiple data sets. If used properly it can also be a good way to de-identify individuals."
   ]
  },
  {
   "cell_type": "code",
   "execution_count": null,
<<<<<<< HEAD
<<<<<<< HEAD
   "id": "8544e412",
=======
   "id": "5b6b6331",
>>>>>>> upstream/main
=======
   "id": "7a50fb51",
>>>>>>> upstream/main
   "metadata": {},
   "outputs": [],
   "source": [
    "import random\n",
    "messy['uID'] = [str(random.randint(0,1000)).zfill(4) for i in range(len(messy))]\n",
    "messy"
   ]
  },
  {
   "cell_type": "markdown",
<<<<<<< HEAD
<<<<<<< HEAD
   "id": "9ed66f21",
=======
   "id": "5894fa94",
>>>>>>> upstream/main
=======
   "id": "185aa24d",
>>>>>>> upstream/main
   "metadata": {},
   "source": [
    "There is a lot to unpack with what we did there, let's break that down:\n",
    "\n",
    "- First we're generating a list using a single line for loop\n",
    "- Our loop is over the elements in the range that goes from 0 to the length of our data frame - effectively saying make the list the same length as our dataframe\n",
    "- Then our loop generates a random integer from 0 to 1000 but we needed to import python's random number generator to do that for us\n",
    "- Then we want to convert our random integer to a string. We wouldn't want to accidentally do math with our unique ID numbers\n",
    "- We want to make sure our IDs are all the same length using zfill to add 0s to the front of our string. This is common for numbers like this. Just think of your credit card number, social security number, SMU ID....\n",
    "- Lastly, we assign our list to the new column in our dataframe 'uID'"
   ]
  },
  {
   "cell_type": "code",
   "execution_count": null,
<<<<<<< HEAD
<<<<<<< HEAD
   "id": "ee4f10f8",
=======
   "id": "7cffc073",
>>>>>>> upstream/main
=======
   "id": "1adcfb1d",
>>>>>>> upstream/main
   "metadata": {},
   "outputs": [],
   "source": [
    "# The same code but unpacked\n",
    "import random\n",
    "\n",
    "ll = [] #initialize an empty list\n",
    "length = len(messy)\n",
    "for i in range(0,length):\n",
    "    r = random.randint(0,1000)\n",
    "    s = str(r)\n",
    "    s4 = s.zfill(4)\n",
    "    ll.append(s4) # This lets us add elements to a list\n",
    "messy['uID']=ll\n",
    "messy"
   ]
  },
  {
   "cell_type": "markdown",
<<<<<<< HEAD
<<<<<<< HEAD
   "id": "10c20c78",
=======
   "id": "7121432b",
>>>>>>> upstream/main
=======
   "id": "be35d421",
>>>>>>> upstream/main
   "metadata": {},
   "source": [
    "#### Dates"
   ]
  },
  {
   "cell_type": "markdown",
<<<<<<< HEAD
<<<<<<< HEAD
   "id": "b4762492",
=======
   "id": "f2092cf6",
>>>>>>> upstream/main
=======
   "id": "3d8c27d2",
>>>>>>> upstream/main
   "metadata": {},
   "source": [
    "Another common issue is that there are lots of formats for dates and times. This isn't just an issue with personal data but is one that can cause huge headaches when working with data sets. Even asking simple questions can become complicated when working with dates if you aren't sure of the formatting.\n",
    "\n",
    "Think about all the steps your brain makes if I ask you what the date was 3 weeks ago?"
   ]
  },
  {
   "cell_type": "markdown",
<<<<<<< HEAD
<<<<<<< HEAD
   "id": "5b9d2ffe",
=======
   "id": "28424bba",
>>>>>>> upstream/main
=======
   "id": "1ea23826",
>>>>>>> upstream/main
   "metadata": {},
   "source": [
    "Somewhat incredibly, pandas can actually recognize several forms of dates and guess what the date formats are and convert them to a standardize format using the function [to_datetime](https://pandas.pydata.org/docs/reference/api/pandas.to_datetime.html?highlight=to_datetime#pandas.to_datetime)."
   ]
  },
  {
   "cell_type": "code",
   "execution_count": null,
<<<<<<< HEAD
<<<<<<< HEAD
   "id": "2634a12f",
=======
   "id": "b9a3fff7",
>>>>>>> upstream/main
=======
   "id": "d5d47d89",
>>>>>>> upstream/main
   "metadata": {},
   "outputs": [],
   "source": [
    "messy['Date_Fixed'] = pd.to_datetime(messy['Air_Date'],errors='raise')\n",
    "messy[['Air_Date','Date_Fixed']]"
   ]
  },
  {
   "cell_type": "markdown",
<<<<<<< HEAD
<<<<<<< HEAD
   "id": "77d3f8d8",
=======
   "id": "c207ddff",
>>>>>>> upstream/main
=======
   "id": "c9269a1e",
>>>>>>> upstream/main
   "metadata": {},
   "source": [
    "#### Missing Values"
   ]
  },
  {
   "cell_type": "markdown",
<<<<<<< HEAD
<<<<<<< HEAD
   "id": "084fe02c",
=======
   "id": "03e79b93",
>>>>>>> upstream/main
=======
   "id": "0312fcf6",
>>>>>>> upstream/main
   "metadata": {},
   "source": [
    "Another problem we can encounter is missing data. This happens all the time with \"wild data\" and can happen for numerous reasons, for example:\n",
    "- no data should exist for a reason\n",
    "- an error in the data creation\n",
    "- an operation induced the missing data\n",
    "\n",
    "Pandas has a simple function to handle this called [fillna](https://pandas.pydata.org/docs/reference/api/pandas.DataFrame.fillna.html)."
   ]
  },
  {
   "cell_type": "code",
   "execution_count": null,
<<<<<<< HEAD
<<<<<<< HEAD
   "id": "67792c60",
=======
   "id": "769b61c0",
>>>>>>> upstream/main
=======
   "id": "53e55fa2",
>>>>>>> upstream/main
   "metadata": {},
   "outputs": [],
   "source": [
    "messy = messy.fillna('No Data Available') #Note this will change our data\n",
    "messy"
   ]
  },
  {
   "cell_type": "markdown",
<<<<<<< HEAD
<<<<<<< HEAD
   "id": "44a6e832",
=======
   "id": "87c92b01",
>>>>>>> upstream/main
=======
   "id": "0ac65d69",
>>>>>>> upstream/main
   "metadata": {},
   "source": [
    "#### Case Sensitivity"
   ]
  },
  {
   "cell_type": "markdown",
<<<<<<< HEAD
<<<<<<< HEAD
   "id": "490a9143",
=======
   "id": "dd848a06",
>>>>>>> upstream/main
=======
   "id": "77e60c6d",
>>>>>>> upstream/main
   "metadata": {},
   "source": [
    "Another common issue with dealing with messy data is case sensitivity. Since python sees 'A' and 'a' as two different characters, it is important to be aware of case sensitivity. The easiest way to do this is to send all the characters in a particular column to a single case pattern. Fortunately, pandas has a family of functions to do that for us. [lower](https://pandas.pydata.org/docs/reference/api/pandas.Series.str.lower.html?highlight=lower#pandas.Series.str.lower) is a good example."
   ]
  },
  {
   "cell_type": "code",
   "execution_count": null,
<<<<<<< HEAD
<<<<<<< HEAD
   "id": "820f9d2b",
=======
   "id": "5ad89307",
>>>>>>> upstream/main
=======
   "id": "002e7aac",
>>>>>>> upstream/main
   "metadata": {},
   "outputs": [],
   "source": [
    "messy['Ship'] = messy['Ship'].str.lower()\n",
    "messy"
   ]
  },
  {
   "cell_type": "markdown",
<<<<<<< HEAD
<<<<<<< HEAD
   "id": "343d8edc",
=======
   "id": "76f835a1",
>>>>>>> upstream/main
=======
   "id": "c2419cea",
>>>>>>> upstream/main
   "metadata": {},
   "source": [
    "That might not actually be what we want but at least we can compare the values now."
   ]
  },
  {
   "cell_type": "code",
   "execution_count": null,
<<<<<<< HEAD
<<<<<<< HEAD
   "id": "f013128e",
=======
   "id": "2118adb7",
>>>>>>> upstream/main
=======
   "id": "7a97b9c4",
>>>>>>> upstream/main
   "metadata": {},
   "outputs": [],
   "source": [
    "messy['Ship'].value_counts()"
   ]
  },
  {
   "cell_type": "markdown",
<<<<<<< HEAD
<<<<<<< HEAD
   "id": "b0b1f4b7",
=======
   "id": "7343fee9",
>>>>>>> upstream/main
=======
   "id": "ab6cfce7",
>>>>>>> upstream/main
   "metadata": {},
   "source": [
    "### Wrap Up"
   ]
  },
  {
   "cell_type": "markdown",
<<<<<<< HEAD
<<<<<<< HEAD
   "id": "008047a5",
=======
   "id": "1411bde6",
>>>>>>> upstream/main
=======
   "id": "32628811",
>>>>>>> upstream/main
   "metadata": {},
   "source": [
    "Let's look at our messy data before:"
   ]
  },
  {
   "cell_type": "code",
   "execution_count": null,
<<<<<<< HEAD
<<<<<<< HEAD
   "id": "8c0a1545",
=======
   "id": "10d0633a",
>>>>>>> upstream/main
=======
   "id": "cdeeda6f",
>>>>>>> upstream/main
   "metadata": {},
   "outputs": [],
   "source": [
    "before = pd.read_csv(\"../data/messy_data.csv\",delimiter=\";\")\n",
    "before"
   ]
  },
  {
   "cell_type": "markdown",
<<<<<<< HEAD
<<<<<<< HEAD
   "id": "157bff89",
=======
   "id": "0e82ec69",
>>>>>>> upstream/main
=======
   "id": "dd2d3591",
>>>>>>> upstream/main
   "metadata": {},
   "source": [
    "and after:"
   ]
  },
  {
   "cell_type": "code",
   "execution_count": null,
<<<<<<< HEAD
<<<<<<< HEAD
   "id": "3eb5b50f",
=======
   "id": "2e84aae8",
>>>>>>> upstream/main
=======
   "id": "4ad02be4",
>>>>>>> upstream/main
   "metadata": {},
   "outputs": [],
   "source": [
    "messy"
   ]
  },
  {
   "cell_type": "markdown",
<<<<<<< HEAD
<<<<<<< HEAD
   "id": "00025255",
=======
   "id": "8c7bb940",
>>>>>>> upstream/main
=======
   "id": "4c201c4b",
>>>>>>> upstream/main
   "metadata": {},
   "source": [
    "What were we able to fix? What else could we do?"
   ]
  },
  {
   "cell_type": "code",
   "execution_count": null,
<<<<<<< HEAD
<<<<<<< HEAD
   "id": "21274cb5",
=======
   "id": "fc6a94c8",
>>>>>>> upstream/main
=======
   "id": "64501aea",
>>>>>>> upstream/main
   "metadata": {},
   "outputs": [],
   "source": []
  }
 ],
 "metadata": {
  "jupytext": {
   "formats": "ipynb"
  },
  "kernelspec": {
   "display_name": "Python 3",
   "language": "python",
   "name": "python3"
  }
 },
 "nbformat": 4,
 "nbformat_minor": 5
}
